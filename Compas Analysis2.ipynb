{
 "cells": [
  {
   "cell_type": "code",
   "execution_count": 1,
   "metadata": {},
   "outputs": [],
   "source": [
    "import pandas as pd"
   ]
  },
  {
   "cell_type": "code",
   "execution_count": 2,
   "metadata": {},
   "outputs": [],
   "source": [
    "csty=pd.read_csv('D:\\\\Github\\\\compas-analysis\\\\compas-scores-two-years.csv')"
   ]
  },
  {
   "cell_type": "code",
   "execution_count": 3,
   "metadata": {},
   "outputs": [
    {
     "data": {
      "text/html": [
       "<div>\n",
       "<style scoped>\n",
       "    .dataframe tbody tr th:only-of-type {\n",
       "        vertical-align: middle;\n",
       "    }\n",
       "\n",
       "    .dataframe tbody tr th {\n",
       "        vertical-align: top;\n",
       "    }\n",
       "\n",
       "    .dataframe thead th {\n",
       "        text-align: right;\n",
       "    }\n",
       "</style>\n",
       "<table border=\"1\" class=\"dataframe\">\n",
       "  <thead>\n",
       "    <tr style=\"text-align: right;\">\n",
       "      <th></th>\n",
       "      <th>id</th>\n",
       "      <th>name</th>\n",
       "      <th>first</th>\n",
       "      <th>last</th>\n",
       "      <th>compas_screening_date</th>\n",
       "      <th>sex</th>\n",
       "      <th>dob</th>\n",
       "      <th>age</th>\n",
       "      <th>age_cat</th>\n",
       "      <th>race</th>\n",
       "      <th>...</th>\n",
       "      <th>v_decile_score</th>\n",
       "      <th>v_score_text</th>\n",
       "      <th>v_screening_date</th>\n",
       "      <th>in_custody</th>\n",
       "      <th>out_custody</th>\n",
       "      <th>priors_count.1</th>\n",
       "      <th>start</th>\n",
       "      <th>end</th>\n",
       "      <th>event</th>\n",
       "      <th>two_year_recid</th>\n",
       "    </tr>\n",
       "  </thead>\n",
       "  <tbody>\n",
       "    <tr>\n",
       "      <th>0</th>\n",
       "      <td>1</td>\n",
       "      <td>miguel hernandez</td>\n",
       "      <td>miguel</td>\n",
       "      <td>hernandez</td>\n",
       "      <td>2013-08-14</td>\n",
       "      <td>Male</td>\n",
       "      <td>1947-04-18</td>\n",
       "      <td>69</td>\n",
       "      <td>Greater than 45</td>\n",
       "      <td>Other</td>\n",
       "      <td>...</td>\n",
       "      <td>1</td>\n",
       "      <td>Low</td>\n",
       "      <td>2013-08-14</td>\n",
       "      <td>2014-07-07</td>\n",
       "      <td>2014-07-14</td>\n",
       "      <td>0</td>\n",
       "      <td>0</td>\n",
       "      <td>327</td>\n",
       "      <td>0</td>\n",
       "      <td>0</td>\n",
       "    </tr>\n",
       "    <tr>\n",
       "      <th>1</th>\n",
       "      <td>3</td>\n",
       "      <td>kevon dixon</td>\n",
       "      <td>kevon</td>\n",
       "      <td>dixon</td>\n",
       "      <td>2013-01-27</td>\n",
       "      <td>Male</td>\n",
       "      <td>1982-01-22</td>\n",
       "      <td>34</td>\n",
       "      <td>25 - 45</td>\n",
       "      <td>African-American</td>\n",
       "      <td>...</td>\n",
       "      <td>1</td>\n",
       "      <td>Low</td>\n",
       "      <td>2013-01-27</td>\n",
       "      <td>2013-01-26</td>\n",
       "      <td>2013-02-05</td>\n",
       "      <td>0</td>\n",
       "      <td>9</td>\n",
       "      <td>159</td>\n",
       "      <td>1</td>\n",
       "      <td>1</td>\n",
       "    </tr>\n",
       "    <tr>\n",
       "      <th>2</th>\n",
       "      <td>4</td>\n",
       "      <td>ed philo</td>\n",
       "      <td>ed</td>\n",
       "      <td>philo</td>\n",
       "      <td>2013-04-14</td>\n",
       "      <td>Male</td>\n",
       "      <td>1991-05-14</td>\n",
       "      <td>24</td>\n",
       "      <td>Less than 25</td>\n",
       "      <td>African-American</td>\n",
       "      <td>...</td>\n",
       "      <td>3</td>\n",
       "      <td>Low</td>\n",
       "      <td>2013-04-14</td>\n",
       "      <td>2013-06-16</td>\n",
       "      <td>2013-06-16</td>\n",
       "      <td>4</td>\n",
       "      <td>0</td>\n",
       "      <td>63</td>\n",
       "      <td>0</td>\n",
       "      <td>1</td>\n",
       "    </tr>\n",
       "    <tr>\n",
       "      <th>3</th>\n",
       "      <td>5</td>\n",
       "      <td>marcu brown</td>\n",
       "      <td>marcu</td>\n",
       "      <td>brown</td>\n",
       "      <td>2013-01-13</td>\n",
       "      <td>Male</td>\n",
       "      <td>1993-01-21</td>\n",
       "      <td>23</td>\n",
       "      <td>Less than 25</td>\n",
       "      <td>African-American</td>\n",
       "      <td>...</td>\n",
       "      <td>6</td>\n",
       "      <td>Medium</td>\n",
       "      <td>2013-01-13</td>\n",
       "      <td>NaN</td>\n",
       "      <td>NaN</td>\n",
       "      <td>1</td>\n",
       "      <td>0</td>\n",
       "      <td>1174</td>\n",
       "      <td>0</td>\n",
       "      <td>0</td>\n",
       "    </tr>\n",
       "    <tr>\n",
       "      <th>4</th>\n",
       "      <td>6</td>\n",
       "      <td>bouthy pierrelouis</td>\n",
       "      <td>bouthy</td>\n",
       "      <td>pierrelouis</td>\n",
       "      <td>2013-03-26</td>\n",
       "      <td>Male</td>\n",
       "      <td>1973-01-22</td>\n",
       "      <td>43</td>\n",
       "      <td>25 - 45</td>\n",
       "      <td>Other</td>\n",
       "      <td>...</td>\n",
       "      <td>1</td>\n",
       "      <td>Low</td>\n",
       "      <td>2013-03-26</td>\n",
       "      <td>NaN</td>\n",
       "      <td>NaN</td>\n",
       "      <td>2</td>\n",
       "      <td>0</td>\n",
       "      <td>1102</td>\n",
       "      <td>0</td>\n",
       "      <td>0</td>\n",
       "    </tr>\n",
       "    <tr>\n",
       "      <th>5</th>\n",
       "      <td>7</td>\n",
       "      <td>marsha miles</td>\n",
       "      <td>marsha</td>\n",
       "      <td>miles</td>\n",
       "      <td>2013-11-30</td>\n",
       "      <td>Male</td>\n",
       "      <td>1971-08-22</td>\n",
       "      <td>44</td>\n",
       "      <td>25 - 45</td>\n",
       "      <td>Other</td>\n",
       "      <td>...</td>\n",
       "      <td>1</td>\n",
       "      <td>Low</td>\n",
       "      <td>2013-11-30</td>\n",
       "      <td>2013-11-30</td>\n",
       "      <td>2013-12-01</td>\n",
       "      <td>0</td>\n",
       "      <td>1</td>\n",
       "      <td>853</td>\n",
       "      <td>0</td>\n",
       "      <td>0</td>\n",
       "    </tr>\n",
       "    <tr>\n",
       "      <th>6</th>\n",
       "      <td>8</td>\n",
       "      <td>edward riddle</td>\n",
       "      <td>edward</td>\n",
       "      <td>riddle</td>\n",
       "      <td>2014-02-19</td>\n",
       "      <td>Male</td>\n",
       "      <td>1974-07-23</td>\n",
       "      <td>41</td>\n",
       "      <td>25 - 45</td>\n",
       "      <td>Caucasian</td>\n",
       "      <td>...</td>\n",
       "      <td>2</td>\n",
       "      <td>Low</td>\n",
       "      <td>2014-02-19</td>\n",
       "      <td>2014-03-31</td>\n",
       "      <td>2014-04-18</td>\n",
       "      <td>14</td>\n",
       "      <td>5</td>\n",
       "      <td>40</td>\n",
       "      <td>1</td>\n",
       "      <td>1</td>\n",
       "    </tr>\n",
       "    <tr>\n",
       "      <th>7</th>\n",
       "      <td>9</td>\n",
       "      <td>steven stewart</td>\n",
       "      <td>steven</td>\n",
       "      <td>stewart</td>\n",
       "      <td>2013-08-30</td>\n",
       "      <td>Male</td>\n",
       "      <td>1973-02-25</td>\n",
       "      <td>43</td>\n",
       "      <td>25 - 45</td>\n",
       "      <td>Other</td>\n",
       "      <td>...</td>\n",
       "      <td>3</td>\n",
       "      <td>Low</td>\n",
       "      <td>2013-08-30</td>\n",
       "      <td>2014-05-22</td>\n",
       "      <td>2014-06-03</td>\n",
       "      <td>3</td>\n",
       "      <td>0</td>\n",
       "      <td>265</td>\n",
       "      <td>0</td>\n",
       "      <td>0</td>\n",
       "    </tr>\n",
       "    <tr>\n",
       "      <th>8</th>\n",
       "      <td>10</td>\n",
       "      <td>elizabeth thieme</td>\n",
       "      <td>elizabeth</td>\n",
       "      <td>thieme</td>\n",
       "      <td>2014-03-16</td>\n",
       "      <td>Female</td>\n",
       "      <td>1976-06-03</td>\n",
       "      <td>39</td>\n",
       "      <td>25 - 45</td>\n",
       "      <td>Caucasian</td>\n",
       "      <td>...</td>\n",
       "      <td>1</td>\n",
       "      <td>Low</td>\n",
       "      <td>2014-03-16</td>\n",
       "      <td>2014-03-15</td>\n",
       "      <td>2014-03-18</td>\n",
       "      <td>0</td>\n",
       "      <td>2</td>\n",
       "      <td>747</td>\n",
       "      <td>0</td>\n",
       "      <td>0</td>\n",
       "    </tr>\n",
       "    <tr>\n",
       "      <th>9</th>\n",
       "      <td>13</td>\n",
       "      <td>bo bradac</td>\n",
       "      <td>bo</td>\n",
       "      <td>bradac</td>\n",
       "      <td>2013-11-04</td>\n",
       "      <td>Male</td>\n",
       "      <td>1994-06-10</td>\n",
       "      <td>21</td>\n",
       "      <td>Less than 25</td>\n",
       "      <td>Caucasian</td>\n",
       "      <td>...</td>\n",
       "      <td>5</td>\n",
       "      <td>Medium</td>\n",
       "      <td>2013-11-04</td>\n",
       "      <td>2015-01-06</td>\n",
       "      <td>2015-01-07</td>\n",
       "      <td>1</td>\n",
       "      <td>0</td>\n",
       "      <td>428</td>\n",
       "      <td>1</td>\n",
       "      <td>1</td>\n",
       "    </tr>\n",
       "  </tbody>\n",
       "</table>\n",
       "<p>10 rows × 53 columns</p>\n",
       "</div>"
      ],
      "text/plain": [
       "   id                name      first         last compas_screening_date  \\\n",
       "0   1    miguel hernandez     miguel    hernandez            2013-08-14   \n",
       "1   3         kevon dixon      kevon        dixon            2013-01-27   \n",
       "2   4            ed philo         ed        philo            2013-04-14   \n",
       "3   5         marcu brown      marcu        brown            2013-01-13   \n",
       "4   6  bouthy pierrelouis     bouthy  pierrelouis            2013-03-26   \n",
       "5   7        marsha miles     marsha        miles            2013-11-30   \n",
       "6   8       edward riddle     edward       riddle            2014-02-19   \n",
       "7   9      steven stewart     steven      stewart            2013-08-30   \n",
       "8  10    elizabeth thieme  elizabeth       thieme            2014-03-16   \n",
       "9  13           bo bradac         bo       bradac            2013-11-04   \n",
       "\n",
       "      sex         dob  age          age_cat              race  ...  \\\n",
       "0    Male  1947-04-18   69  Greater than 45             Other  ...   \n",
       "1    Male  1982-01-22   34          25 - 45  African-American  ...   \n",
       "2    Male  1991-05-14   24     Less than 25  African-American  ...   \n",
       "3    Male  1993-01-21   23     Less than 25  African-American  ...   \n",
       "4    Male  1973-01-22   43          25 - 45             Other  ...   \n",
       "5    Male  1971-08-22   44          25 - 45             Other  ...   \n",
       "6    Male  1974-07-23   41          25 - 45         Caucasian  ...   \n",
       "7    Male  1973-02-25   43          25 - 45             Other  ...   \n",
       "8  Female  1976-06-03   39          25 - 45         Caucasian  ...   \n",
       "9    Male  1994-06-10   21     Less than 25         Caucasian  ...   \n",
       "\n",
       "   v_decile_score  v_score_text  v_screening_date  in_custody  out_custody  \\\n",
       "0               1           Low        2013-08-14  2014-07-07   2014-07-14   \n",
       "1               1           Low        2013-01-27  2013-01-26   2013-02-05   \n",
       "2               3           Low        2013-04-14  2013-06-16   2013-06-16   \n",
       "3               6        Medium        2013-01-13         NaN          NaN   \n",
       "4               1           Low        2013-03-26         NaN          NaN   \n",
       "5               1           Low        2013-11-30  2013-11-30   2013-12-01   \n",
       "6               2           Low        2014-02-19  2014-03-31   2014-04-18   \n",
       "7               3           Low        2013-08-30  2014-05-22   2014-06-03   \n",
       "8               1           Low        2014-03-16  2014-03-15   2014-03-18   \n",
       "9               5        Medium        2013-11-04  2015-01-06   2015-01-07   \n",
       "\n",
       "   priors_count.1 start   end event two_year_recid  \n",
       "0               0     0   327     0              0  \n",
       "1               0     9   159     1              1  \n",
       "2               4     0    63     0              1  \n",
       "3               1     0  1174     0              0  \n",
       "4               2     0  1102     0              0  \n",
       "5               0     1   853     0              0  \n",
       "6              14     5    40     1              1  \n",
       "7               3     0   265     0              0  \n",
       "8               0     2   747     0              0  \n",
       "9               1     0   428     1              1  \n",
       "\n",
       "[10 rows x 53 columns]"
      ]
     },
     "execution_count": 3,
     "metadata": {},
     "output_type": "execute_result"
    }
   ],
   "source": [
    "csty.head(10)"
   ]
  },
  {
   "cell_type": "code",
   "execution_count": 4,
   "metadata": {
    "scrolled": true
   },
   "outputs": [
    {
     "name": "stdout",
     "output_type": "stream",
     "text": [
      "<class 'pandas.core.frame.DataFrame'>\n",
      "RangeIndex: 7214 entries, 0 to 7213\n",
      "Data columns (total 53 columns):\n",
      " #   Column                   Non-Null Count  Dtype  \n",
      "---  ------                   --------------  -----  \n",
      " 0   id                       7214 non-null   int64  \n",
      " 1   name                     7214 non-null   object \n",
      " 2   first                    7214 non-null   object \n",
      " 3   last                     7214 non-null   object \n",
      " 4   compas_screening_date    7214 non-null   object \n",
      " 5   sex                      7214 non-null   object \n",
      " 6   dob                      7214 non-null   object \n",
      " 7   age                      7214 non-null   int64  \n",
      " 8   age_cat                  7214 non-null   object \n",
      " 9   race                     7214 non-null   object \n",
      " 10  juv_fel_count            7214 non-null   int64  \n",
      " 11  decile_score             7214 non-null   int64  \n",
      " 12  juv_misd_count           7214 non-null   int64  \n",
      " 13  juv_other_count          7214 non-null   int64  \n",
      " 14  priors_count             7214 non-null   int64  \n",
      " 15  days_b_screening_arrest  6907 non-null   float64\n",
      " 16  c_jail_in                6907 non-null   object \n",
      " 17  c_jail_out               6907 non-null   object \n",
      " 18  c_case_number            7192 non-null   object \n",
      " 19  c_offense_date           6055 non-null   object \n",
      " 20  c_arrest_date            1137 non-null   object \n",
      " 21  c_days_from_compas       7192 non-null   float64\n",
      " 22  c_charge_degree          7214 non-null   object \n",
      " 23  c_charge_desc            7185 non-null   object \n",
      " 24  is_recid                 7214 non-null   int64  \n",
      " 25  r_case_number            3471 non-null   object \n",
      " 26  r_charge_degree          3471 non-null   object \n",
      " 27  r_days_from_arrest       2316 non-null   float64\n",
      " 28  r_offense_date           3471 non-null   object \n",
      " 29  r_charge_desc            3413 non-null   object \n",
      " 30  r_jail_in                2316 non-null   object \n",
      " 31  r_jail_out               2316 non-null   object \n",
      " 32  violent_recid            0 non-null      float64\n",
      " 33  is_violent_recid         7214 non-null   int64  \n",
      " 34  vr_case_number           819 non-null    object \n",
      " 35  vr_charge_degree         819 non-null    object \n",
      " 36  vr_offense_date          819 non-null    object \n",
      " 37  vr_charge_desc           819 non-null    object \n",
      " 38  type_of_assessment       7214 non-null   object \n",
      " 39  decile_score.1           7214 non-null   int64  \n",
      " 40  score_text               7214 non-null   object \n",
      " 41  screening_date           7214 non-null   object \n",
      " 42  v_type_of_assessment     7214 non-null   object \n",
      " 43  v_decile_score           7214 non-null   int64  \n",
      " 44  v_score_text             7214 non-null   object \n",
      " 45  v_screening_date         7214 non-null   object \n",
      " 46  in_custody               6978 non-null   object \n",
      " 47  out_custody              6978 non-null   object \n",
      " 48  priors_count.1           7214 non-null   int64  \n",
      " 49  start                    7214 non-null   int64  \n",
      " 50  end                      7214 non-null   int64  \n",
      " 51  event                    7214 non-null   int64  \n",
      " 52  two_year_recid           7214 non-null   int64  \n",
      "dtypes: float64(4), int64(16), object(33)\n",
      "memory usage: 2.9+ MB\n"
     ]
    }
   ],
   "source": [
    "csty.info()"
   ]
  },
  {
   "cell_type": "code",
   "execution_count": 5,
   "metadata": {},
   "outputs": [],
   "source": [
    "# filter(days_b_screening_arrest <= 30) %>%\n",
    "#         filter(days_b_screening_arrest >= -30) %>%\n",
    "#         filter(is_recid != -1) %>%\n",
    "#         filter(c_charge_degree != \"O\") %>%\n",
    "#         filter(score_text != 'N/A')"
   ]
  },
  {
   "cell_type": "code",
   "execution_count": 6,
   "metadata": {},
   "outputs": [
    {
     "data": {
      "text/html": [
       "<div>\n",
       "<style scoped>\n",
       "    .dataframe tbody tr th:only-of-type {\n",
       "        vertical-align: middle;\n",
       "    }\n",
       "\n",
       "    .dataframe tbody tr th {\n",
       "        vertical-align: top;\n",
       "    }\n",
       "\n",
       "    .dataframe thead th {\n",
       "        text-align: right;\n",
       "    }\n",
       "</style>\n",
       "<table border=\"1\" class=\"dataframe\">\n",
       "  <thead>\n",
       "    <tr style=\"text-align: right;\">\n",
       "      <th></th>\n",
       "      <th>id</th>\n",
       "      <th>name</th>\n",
       "      <th>first</th>\n",
       "      <th>last</th>\n",
       "      <th>compas_screening_date</th>\n",
       "      <th>sex</th>\n",
       "      <th>dob</th>\n",
       "      <th>age</th>\n",
       "      <th>age_cat</th>\n",
       "      <th>race</th>\n",
       "      <th>...</th>\n",
       "      <th>v_decile_score</th>\n",
       "      <th>v_score_text</th>\n",
       "      <th>v_screening_date</th>\n",
       "      <th>in_custody</th>\n",
       "      <th>out_custody</th>\n",
       "      <th>priors_count.1</th>\n",
       "      <th>start</th>\n",
       "      <th>end</th>\n",
       "      <th>event</th>\n",
       "      <th>two_year_recid</th>\n",
       "    </tr>\n",
       "  </thead>\n",
       "  <tbody>\n",
       "    <tr>\n",
       "      <th>0</th>\n",
       "      <td>1</td>\n",
       "      <td>miguel hernandez</td>\n",
       "      <td>miguel</td>\n",
       "      <td>hernandez</td>\n",
       "      <td>2013-08-14</td>\n",
       "      <td>Male</td>\n",
       "      <td>1947-04-18</td>\n",
       "      <td>69</td>\n",
       "      <td>Greater than 45</td>\n",
       "      <td>Other</td>\n",
       "      <td>...</td>\n",
       "      <td>1</td>\n",
       "      <td>Low</td>\n",
       "      <td>2013-08-14</td>\n",
       "      <td>2014-07-07</td>\n",
       "      <td>2014-07-14</td>\n",
       "      <td>0</td>\n",
       "      <td>0</td>\n",
       "      <td>327</td>\n",
       "      <td>0</td>\n",
       "      <td>0</td>\n",
       "    </tr>\n",
       "    <tr>\n",
       "      <th>1</th>\n",
       "      <td>3</td>\n",
       "      <td>kevon dixon</td>\n",
       "      <td>kevon</td>\n",
       "      <td>dixon</td>\n",
       "      <td>2013-01-27</td>\n",
       "      <td>Male</td>\n",
       "      <td>1982-01-22</td>\n",
       "      <td>34</td>\n",
       "      <td>25 - 45</td>\n",
       "      <td>African-American</td>\n",
       "      <td>...</td>\n",
       "      <td>1</td>\n",
       "      <td>Low</td>\n",
       "      <td>2013-01-27</td>\n",
       "      <td>2013-01-26</td>\n",
       "      <td>2013-02-05</td>\n",
       "      <td>0</td>\n",
       "      <td>9</td>\n",
       "      <td>159</td>\n",
       "      <td>1</td>\n",
       "      <td>1</td>\n",
       "    </tr>\n",
       "    <tr>\n",
       "      <th>2</th>\n",
       "      <td>4</td>\n",
       "      <td>ed philo</td>\n",
       "      <td>ed</td>\n",
       "      <td>philo</td>\n",
       "      <td>2013-04-14</td>\n",
       "      <td>Male</td>\n",
       "      <td>1991-05-14</td>\n",
       "      <td>24</td>\n",
       "      <td>Less than 25</td>\n",
       "      <td>African-American</td>\n",
       "      <td>...</td>\n",
       "      <td>3</td>\n",
       "      <td>Low</td>\n",
       "      <td>2013-04-14</td>\n",
       "      <td>2013-06-16</td>\n",
       "      <td>2013-06-16</td>\n",
       "      <td>4</td>\n",
       "      <td>0</td>\n",
       "      <td>63</td>\n",
       "      <td>0</td>\n",
       "      <td>1</td>\n",
       "    </tr>\n",
       "    <tr>\n",
       "      <th>5</th>\n",
       "      <td>7</td>\n",
       "      <td>marsha miles</td>\n",
       "      <td>marsha</td>\n",
       "      <td>miles</td>\n",
       "      <td>2013-11-30</td>\n",
       "      <td>Male</td>\n",
       "      <td>1971-08-22</td>\n",
       "      <td>44</td>\n",
       "      <td>25 - 45</td>\n",
       "      <td>Other</td>\n",
       "      <td>...</td>\n",
       "      <td>1</td>\n",
       "      <td>Low</td>\n",
       "      <td>2013-11-30</td>\n",
       "      <td>2013-11-30</td>\n",
       "      <td>2013-12-01</td>\n",
       "      <td>0</td>\n",
       "      <td>1</td>\n",
       "      <td>853</td>\n",
       "      <td>0</td>\n",
       "      <td>0</td>\n",
       "    </tr>\n",
       "    <tr>\n",
       "      <th>6</th>\n",
       "      <td>8</td>\n",
       "      <td>edward riddle</td>\n",
       "      <td>edward</td>\n",
       "      <td>riddle</td>\n",
       "      <td>2014-02-19</td>\n",
       "      <td>Male</td>\n",
       "      <td>1974-07-23</td>\n",
       "      <td>41</td>\n",
       "      <td>25 - 45</td>\n",
       "      <td>Caucasian</td>\n",
       "      <td>...</td>\n",
       "      <td>2</td>\n",
       "      <td>Low</td>\n",
       "      <td>2014-02-19</td>\n",
       "      <td>2014-03-31</td>\n",
       "      <td>2014-04-18</td>\n",
       "      <td>14</td>\n",
       "      <td>5</td>\n",
       "      <td>40</td>\n",
       "      <td>1</td>\n",
       "      <td>1</td>\n",
       "    </tr>\n",
       "    <tr>\n",
       "      <th>...</th>\n",
       "      <td>...</td>\n",
       "      <td>...</td>\n",
       "      <td>...</td>\n",
       "      <td>...</td>\n",
       "      <td>...</td>\n",
       "      <td>...</td>\n",
       "      <td>...</td>\n",
       "      <td>...</td>\n",
       "      <td>...</td>\n",
       "      <td>...</td>\n",
       "      <td>...</td>\n",
       "      <td>...</td>\n",
       "      <td>...</td>\n",
       "      <td>...</td>\n",
       "      <td>...</td>\n",
       "      <td>...</td>\n",
       "      <td>...</td>\n",
       "      <td>...</td>\n",
       "      <td>...</td>\n",
       "      <td>...</td>\n",
       "      <td>...</td>\n",
       "    </tr>\n",
       "    <tr>\n",
       "      <th>7209</th>\n",
       "      <td>10996</td>\n",
       "      <td>steven butler</td>\n",
       "      <td>steven</td>\n",
       "      <td>butler</td>\n",
       "      <td>2013-11-23</td>\n",
       "      <td>Male</td>\n",
       "      <td>1992-07-17</td>\n",
       "      <td>23</td>\n",
       "      <td>Less than 25</td>\n",
       "      <td>African-American</td>\n",
       "      <td>...</td>\n",
       "      <td>5</td>\n",
       "      <td>Medium</td>\n",
       "      <td>2013-11-23</td>\n",
       "      <td>2013-11-22</td>\n",
       "      <td>2013-11-24</td>\n",
       "      <td>0</td>\n",
       "      <td>1</td>\n",
       "      <td>860</td>\n",
       "      <td>0</td>\n",
       "      <td>0</td>\n",
       "    </tr>\n",
       "    <tr>\n",
       "      <th>7210</th>\n",
       "      <td>10997</td>\n",
       "      <td>malcolm simmons</td>\n",
       "      <td>malcolm</td>\n",
       "      <td>simmons</td>\n",
       "      <td>2014-02-01</td>\n",
       "      <td>Male</td>\n",
       "      <td>1993-03-25</td>\n",
       "      <td>23</td>\n",
       "      <td>Less than 25</td>\n",
       "      <td>African-American</td>\n",
       "      <td>...</td>\n",
       "      <td>5</td>\n",
       "      <td>Medium</td>\n",
       "      <td>2014-02-01</td>\n",
       "      <td>2014-01-31</td>\n",
       "      <td>2014-02-02</td>\n",
       "      <td>0</td>\n",
       "      <td>1</td>\n",
       "      <td>790</td>\n",
       "      <td>0</td>\n",
       "      <td>0</td>\n",
       "    </tr>\n",
       "    <tr>\n",
       "      <th>7211</th>\n",
       "      <td>10999</td>\n",
       "      <td>winston gregory</td>\n",
       "      <td>winston</td>\n",
       "      <td>gregory</td>\n",
       "      <td>2014-01-14</td>\n",
       "      <td>Male</td>\n",
       "      <td>1958-10-01</td>\n",
       "      <td>57</td>\n",
       "      <td>Greater than 45</td>\n",
       "      <td>Other</td>\n",
       "      <td>...</td>\n",
       "      <td>1</td>\n",
       "      <td>Low</td>\n",
       "      <td>2014-01-14</td>\n",
       "      <td>2014-01-13</td>\n",
       "      <td>2014-01-14</td>\n",
       "      <td>0</td>\n",
       "      <td>0</td>\n",
       "      <td>808</td>\n",
       "      <td>0</td>\n",
       "      <td>0</td>\n",
       "    </tr>\n",
       "    <tr>\n",
       "      <th>7212</th>\n",
       "      <td>11000</td>\n",
       "      <td>farrah jean</td>\n",
       "      <td>farrah</td>\n",
       "      <td>jean</td>\n",
       "      <td>2014-03-09</td>\n",
       "      <td>Female</td>\n",
       "      <td>1982-11-17</td>\n",
       "      <td>33</td>\n",
       "      <td>25 - 45</td>\n",
       "      <td>African-American</td>\n",
       "      <td>...</td>\n",
       "      <td>2</td>\n",
       "      <td>Low</td>\n",
       "      <td>2014-03-09</td>\n",
       "      <td>2014-03-08</td>\n",
       "      <td>2014-03-09</td>\n",
       "      <td>3</td>\n",
       "      <td>0</td>\n",
       "      <td>754</td>\n",
       "      <td>0</td>\n",
       "      <td>0</td>\n",
       "    </tr>\n",
       "    <tr>\n",
       "      <th>7213</th>\n",
       "      <td>11001</td>\n",
       "      <td>florencia sanmartin</td>\n",
       "      <td>florencia</td>\n",
       "      <td>sanmartin</td>\n",
       "      <td>2014-06-30</td>\n",
       "      <td>Female</td>\n",
       "      <td>1992-12-18</td>\n",
       "      <td>23</td>\n",
       "      <td>Less than 25</td>\n",
       "      <td>Hispanic</td>\n",
       "      <td>...</td>\n",
       "      <td>4</td>\n",
       "      <td>Low</td>\n",
       "      <td>2014-06-30</td>\n",
       "      <td>2015-03-15</td>\n",
       "      <td>2015-03-15</td>\n",
       "      <td>2</td>\n",
       "      <td>0</td>\n",
       "      <td>258</td>\n",
       "      <td>0</td>\n",
       "      <td>1</td>\n",
       "    </tr>\n",
       "  </tbody>\n",
       "</table>\n",
       "<p>6172 rows × 53 columns</p>\n",
       "</div>"
      ],
      "text/plain": [
       "         id                 name      first       last compas_screening_date  \\\n",
       "0         1     miguel hernandez     miguel  hernandez            2013-08-14   \n",
       "1         3          kevon dixon      kevon      dixon            2013-01-27   \n",
       "2         4             ed philo         ed      philo            2013-04-14   \n",
       "5         7         marsha miles     marsha      miles            2013-11-30   \n",
       "6         8        edward riddle     edward     riddle            2014-02-19   \n",
       "...     ...                  ...        ...        ...                   ...   \n",
       "7209  10996        steven butler     steven     butler            2013-11-23   \n",
       "7210  10997      malcolm simmons    malcolm    simmons            2014-02-01   \n",
       "7211  10999      winston gregory    winston    gregory            2014-01-14   \n",
       "7212  11000          farrah jean     farrah       jean            2014-03-09   \n",
       "7213  11001  florencia sanmartin  florencia  sanmartin            2014-06-30   \n",
       "\n",
       "         sex         dob  age          age_cat              race  ...  \\\n",
       "0       Male  1947-04-18   69  Greater than 45             Other  ...   \n",
       "1       Male  1982-01-22   34          25 - 45  African-American  ...   \n",
       "2       Male  1991-05-14   24     Less than 25  African-American  ...   \n",
       "5       Male  1971-08-22   44          25 - 45             Other  ...   \n",
       "6       Male  1974-07-23   41          25 - 45         Caucasian  ...   \n",
       "...      ...         ...  ...              ...               ...  ...   \n",
       "7209    Male  1992-07-17   23     Less than 25  African-American  ...   \n",
       "7210    Male  1993-03-25   23     Less than 25  African-American  ...   \n",
       "7211    Male  1958-10-01   57  Greater than 45             Other  ...   \n",
       "7212  Female  1982-11-17   33          25 - 45  African-American  ...   \n",
       "7213  Female  1992-12-18   23     Less than 25          Hispanic  ...   \n",
       "\n",
       "      v_decile_score  v_score_text  v_screening_date  in_custody  out_custody  \\\n",
       "0                  1           Low        2013-08-14  2014-07-07   2014-07-14   \n",
       "1                  1           Low        2013-01-27  2013-01-26   2013-02-05   \n",
       "2                  3           Low        2013-04-14  2013-06-16   2013-06-16   \n",
       "5                  1           Low        2013-11-30  2013-11-30   2013-12-01   \n",
       "6                  2           Low        2014-02-19  2014-03-31   2014-04-18   \n",
       "...              ...           ...               ...         ...          ...   \n",
       "7209               5        Medium        2013-11-23  2013-11-22   2013-11-24   \n",
       "7210               5        Medium        2014-02-01  2014-01-31   2014-02-02   \n",
       "7211               1           Low        2014-01-14  2014-01-13   2014-01-14   \n",
       "7212               2           Low        2014-03-09  2014-03-08   2014-03-09   \n",
       "7213               4           Low        2014-06-30  2015-03-15   2015-03-15   \n",
       "\n",
       "      priors_count.1 start  end event two_year_recid  \n",
       "0                  0     0  327     0              0  \n",
       "1                  0     9  159     1              1  \n",
       "2                  4     0   63     0              1  \n",
       "5                  0     1  853     0              0  \n",
       "6                 14     5   40     1              1  \n",
       "...              ...   ...  ...   ...            ...  \n",
       "7209               0     1  860     0              0  \n",
       "7210               0     1  790     0              0  \n",
       "7211               0     0  808     0              0  \n",
       "7212               3     0  754     0              0  \n",
       "7213               2     0  258     0              1  \n",
       "\n",
       "[6172 rows x 53 columns]"
      ]
     },
     "execution_count": 6,
     "metadata": {},
     "output_type": "execute_result"
    }
   ],
   "source": [
    "df=csty[(csty['days_b_screening_arrest']<=30.0)& (csty['days_b_screening_arrest']>=-30.0)&(csty['is_recid'] != -1)\n",
    "       &(csty['c_charge_degree']!='O')&(csty['score_text']!='N/A')]\n",
    "df"
   ]
  },
  {
   "cell_type": "code",
   "execution_count": 7,
   "metadata": {},
   "outputs": [
    {
     "name": "stdout",
     "output_type": "stream",
     "text": [
      "name:\n",
      "anthony smith       3\n",
      "michelle briceno    2\n",
      "kerry francois      2\n",
      "perry mcqueen       2\n",
      "james scott         2\n",
      "                   ..\n",
      "ashley morant       1\n",
      "marsha miles        1\n",
      "david harris        1\n",
      "angel navarro       1\n",
      "robby ireland       1\n",
      "Name: name, Length: 6128, dtype: int64 \n",
      "\n",
      "first:\n",
      "michael        127\n",
      "christopher     92\n",
      "james           75\n",
      "robert          64\n",
      "anthony         64\n",
      "              ... \n",
      "rakeem           1\n",
      "covaney          1\n",
      "geovanni         1\n",
      "cesare           1\n",
      "theophilus       1\n",
      "Name: first, Length: 2493, dtype: int64 \n",
      "\n",
      "last:\n",
      "williams    73\n",
      "johnson     64\n",
      "brown       58\n",
      "smith       56\n",
      "jones       47\n",
      "            ..\n",
      "bunsie       1\n",
      "richmond     1\n",
      "tieso        1\n",
      "heim         1\n",
      "losada       1\n",
      "Name: last, Length: 3465, dtype: int64 \n",
      "\n",
      "compas_screening_date:\n",
      "2013-04-20    30\n",
      "2013-02-07    29\n",
      "2013-03-20    27\n",
      "2013-02-20    25\n",
      "2013-02-23    25\n",
      "              ..\n",
      "2014-06-09     1\n",
      "2014-08-23     1\n",
      "2014-07-17     1\n",
      "2014-09-24     1\n",
      "2014-07-21     1\n",
      "Name: compas_screening_date, Length: 685, dtype: int64 \n",
      "\n",
      "sex:\n",
      "Male      4997\n",
      "Female    1175\n",
      "Name: sex, dtype: int64 \n",
      "\n",
      "dob:\n",
      "1994-07-15    5\n",
      "1990-02-22    5\n",
      "1987-02-04    5\n",
      "1987-12-21    5\n",
      "1988-09-13    4\n",
      "             ..\n",
      "1969-11-24    1\n",
      "1992-02-28    1\n",
      "1975-04-28    1\n",
      "1968-11-30    1\n",
      "1986-06-07    1\n",
      "Name: dob, Length: 4830, dtype: int64 \n",
      "\n",
      "age_cat:\n",
      "25 - 45            3532\n",
      "Less than 25       1347\n",
      "Greater than 45    1293\n",
      "Name: age_cat, dtype: int64 \n",
      "\n",
      "race:\n",
      "African-American    3175\n",
      "Caucasian           2103\n",
      "Hispanic             509\n",
      "Other                343\n",
      "Asian                 31\n",
      "Native American       11\n",
      "Name: race, dtype: int64 \n",
      "\n",
      "c_jail_in:\n",
      "2013-02-11 04:13:47    1\n",
      "2014-01-04 09:12:16    1\n",
      "2013-11-25 04:37:30    1\n",
      "2013-05-04 06:24:35    1\n",
      "2013-05-01 07:42:32    1\n",
      "                      ..\n",
      "2013-01-15 11:07:57    1\n",
      "2013-04-28 05:37:37    1\n",
      "2013-05-01 04:36:25    1\n",
      "2013-01-19 04:12:14    1\n",
      "2013-11-03 08:59:31    1\n",
      "Name: c_jail_in, Length: 6172, dtype: int64 \n",
      "\n",
      "c_jail_out:\n",
      "2013-09-14 05:58:00    3\n",
      "2013-09-14 05:54:00    2\n",
      "2014-02-06 09:10:58    2\n",
      "2014-04-23 05:27:00    2\n",
      "2013-11-09 02:08:17    2\n",
      "                      ..\n",
      "2014-12-25 06:41:19    1\n",
      "2014-05-11 08:23:26    1\n",
      "2013-04-18 05:52:26    1\n",
      "2015-01-21 01:10:05    1\n",
      "2014-10-05 02:46:08    1\n",
      "Name: c_jail_out, Length: 6161, dtype: int64 \n",
      "\n",
      "c_case_number:\n",
      "14001823CF10A    1\n",
      "14003925MM10A    1\n",
      "14011103CF10A    1\n",
      "13012512CF10A    1\n",
      "14005228MM10A    1\n",
      "                ..\n",
      "13015696CF10A    1\n",
      "13020886MM10A    1\n",
      "14003538MM10A    1\n",
      "14008795MM10A    1\n",
      "13000720MM10A    1\n",
      "Name: c_case_number, Length: 6172, dtype: int64 \n",
      "\n",
      "c_offense_date:\n",
      "2013-02-22    24\n",
      "2013-01-14    24\n",
      "2013-03-19    23\n",
      "2013-04-07    22\n",
      "2013-04-19    22\n",
      "              ..\n",
      "2012-11-30     1\n",
      "2007-12-21     1\n",
      "2014-09-17     1\n",
      "2014-11-15     1\n",
      "2010-07-17     1\n",
      "Name: c_offense_date, Length: 736, dtype: int64 \n",
      "\n",
      "c_arrest_date:\n",
      "2013-02-06    8\n",
      "2013-03-22    7\n",
      "2013-03-11    6\n",
      "2013-02-16    6\n",
      "2013-04-17    6\n",
      "             ..\n",
      "2013-05-03    1\n",
      "2014-06-19    1\n",
      "2002-08-13    1\n",
      "2009-10-15    1\n",
      "2013-08-17    1\n",
      "Name: c_arrest_date, Length: 416, dtype: int64 \n",
      "\n",
      "c_charge_degree:\n",
      "F    3970\n",
      "M    2202\n",
      "Name: c_charge_degree, dtype: int64 \n",
      "\n",
      "c_charge_desc:\n",
      "Battery                           1087\n",
      "arrest case no charge              784\n",
      "Possession of Cocaine              419\n",
      "Grand Theft in the 3rd Degree      384\n",
      "Driving While License Revoked      189\n",
      "                                  ... \n",
      "Carrying A Concealed Weapon          1\n",
      "Possession Of Cocaine                1\n",
      "Deliver Cannabis 1000FTSch           1\n",
      "Fabricating Physical Evidence        1\n",
      "Consp Traff Oxycodone  4g><14g       1\n",
      "Name: c_charge_desc, Length: 389, dtype: int64 \n",
      "\n",
      "r_case_number:\n",
      "15004896MM10A    1\n",
      "15010198MM10A    1\n",
      "13012338CF10A    1\n",
      "14015680CF10A    1\n",
      "16000253CF10A    1\n",
      "                ..\n",
      "15015534TC20A    1\n",
      "14049897TC20A    1\n",
      "15007127CF10A    1\n",
      "13017998MM10A    1\n",
      "14016669MM10A    1\n",
      "Name: r_case_number, Length: 2990, dtype: int64 \n",
      "\n",
      "r_charge_degree:\n",
      "(M1)     1041\n",
      "(M2)      965\n",
      "(F3)      759\n",
      "(F2)      140\n",
      "(F1)       43\n",
      "(MO3)      29\n",
      "(F7)        7\n",
      "(F6)        3\n",
      "(CO3)       2\n",
      "(F5)        1\n",
      "Name: r_charge_degree, dtype: int64 \n",
      "\n",
      "r_offense_date:\n",
      "2014-12-08    12\n",
      "2014-05-02     9\n",
      "2014-10-30     9\n",
      "2015-02-10     9\n",
      "2014-04-03     9\n",
      "              ..\n",
      "2014-08-01     1\n",
      "2014-03-24     1\n",
      "2013-01-11     1\n",
      "2015-03-18     1\n",
      "2013-09-28     1\n",
      "Name: r_offense_date, Length: 1040, dtype: int64 \n",
      "\n",
      "r_charge_desc:\n",
      "Possess Cannabis/20 Grams Or Less    236\n",
      "Driving License Suspended            229\n",
      "Resist/Obstruct W/O Violence         167\n",
      "Battery                              159\n",
      "Operating W/O Valid License          152\n",
      "                                    ... \n",
      "Shoot/Throw Into Vehicle               1\n",
      "Defrauding Innkeeper $300/Less         1\n",
      "D.U.I. Serious Bodily Injury           1\n",
      "Loitering/Prowling                     1\n",
      "DWLS Suspend Cancel Revoked            1\n",
      "Name: r_charge_desc, Length: 318, dtype: int64 \n",
      "\n",
      "r_jail_in:\n",
      "2014-05-27    8\n",
      "2014-06-05    8\n",
      "2014-12-08    8\n",
      "2014-07-28    7\n",
      "2014-10-30    7\n",
      "             ..\n",
      "2015-03-15    1\n",
      "2013-03-01    1\n",
      "2013-11-26    1\n",
      "2016-03-22    1\n",
      "2015-08-11    1\n",
      "Name: r_jail_in, Length: 923, dtype: int64 \n",
      "\n",
      "r_jail_out:\n",
      "2014-07-11    8\n",
      "2014-09-23    8\n",
      "2014-07-29    7\n",
      "2015-04-07    7\n",
      "2014-09-19    7\n",
      "             ..\n",
      "2013-05-28    1\n",
      "2013-12-23    1\n",
      "2014-03-26    1\n",
      "2014-07-09    1\n",
      "2015-09-28    1\n",
      "Name: r_jail_out, Length: 892, dtype: int64 \n",
      "\n",
      "vr_case_number:\n",
      "15004896MM10A    1\n",
      "15004778MM10A    1\n",
      "16000543MM10A    1\n",
      "15000254CF10A    1\n",
      "13012135CF10A    1\n",
      "                ..\n",
      "15011203MM10A    1\n",
      "15008017MM10A    1\n",
      "15004095CF10A    1\n",
      "14015178MM10A    1\n",
      "15007695MM10A    1\n",
      "Name: vr_case_number, Length: 692, dtype: int64 \n",
      "\n",
      "vr_charge_degree:\n",
      "(M1)     296\n",
      "(F3)     189\n",
      "(F2)     131\n",
      "(F1)      35\n",
      "(F7)      17\n",
      "(M2)      17\n",
      "(MO3)      3\n",
      "(F6)       3\n",
      "(F5)       1\n",
      "Name: vr_charge_degree, dtype: int64 \n",
      "\n",
      "vr_offense_date:\n",
      "2015-08-15    5\n",
      "2014-12-26    4\n",
      "2015-06-13    4\n",
      "2015-04-27    4\n",
      "2015-07-05    3\n",
      "             ..\n",
      "2015-06-25    1\n",
      "2014-07-09    1\n",
      "2015-02-18    1\n",
      "2014-02-01    1\n",
      "2013-09-13    1\n",
      "Name: vr_offense_date, Length: 504, dtype: int64 \n",
      "\n",
      "vr_charge_desc:\n",
      "Battery                            284\n",
      "Felony Battery (Dom Strang)         37\n",
      "Battery on Law Enforc Officer       31\n",
      "Aggravated Assault W/Dead Weap      30\n",
      "Aggrav Battery w/Deadly Weapon      29\n",
      "                                  ... \n",
      "Threaten Throw Destruct Device       1\n",
      "Battery Emergency Care Provide       1\n",
      "Aggravated Assault                   1\n",
      "Agg Battery Bod Hrm-Deadly Weap      1\n",
      "D.U.I. Serious Bodily Injury         1\n",
      "Name: vr_charge_desc, Length: 81, dtype: int64 \n",
      "\n",
      "type_of_assessment:\n",
      "Risk of Recidivism    6172\n",
      "Name: type_of_assessment, dtype: int64 \n",
      "\n",
      "score_text:\n",
      "Low       3421\n",
      "Medium    1607\n",
      "High      1144\n",
      "Name: score_text, dtype: int64 \n",
      "\n",
      "screening_date:\n",
      "2013-04-20    30\n",
      "2013-02-07    29\n",
      "2013-03-20    27\n",
      "2013-02-20    25\n",
      "2013-02-23    25\n",
      "              ..\n",
      "2014-06-09     1\n",
      "2014-08-23     1\n",
      "2014-07-17     1\n",
      "2014-09-24     1\n",
      "2014-07-21     1\n",
      "Name: screening_date, Length: 685, dtype: int64 \n",
      "\n",
      "v_type_of_assessment:\n",
      "Risk of Violence    6172\n",
      "Name: v_type_of_assessment, dtype: int64 \n",
      "\n",
      "v_score_text:\n",
      "Low       4117\n",
      "Medium    1471\n",
      "High       584\n",
      "Name: v_score_text, dtype: int64 \n",
      "\n",
      "v_screening_date:\n",
      "2013-04-20    30\n",
      "2013-02-07    29\n",
      "2013-03-20    27\n",
      "2013-02-20    25\n",
      "2013-02-23    25\n",
      "              ..\n",
      "2014-06-09     1\n",
      "2014-08-23     1\n",
      "2014-07-17     1\n",
      "2014-09-24     1\n",
      "2014-07-21     1\n",
      "Name: v_screening_date, Length: 685, dtype: int64 \n",
      "\n",
      "in_custody:\n",
      "2013-01-27    19\n",
      "2013-02-22    19\n",
      "2014-01-22    19\n",
      "2014-02-03    18\n",
      "2013-04-18    18\n",
      "              ..\n",
      "2016-03-29     1\n",
      "2015-06-26     1\n",
      "2015-02-03     1\n",
      "2014-12-25     1\n",
      "2016-02-14     1\n",
      "Name: in_custody, Length: 1087, dtype: int64 \n",
      "\n",
      "out_custody:\n",
      "2020-01-01    46\n",
      "2013-05-14    24\n",
      "2014-02-04    22\n",
      "2013-11-26    21\n",
      "2013-12-16    19\n",
      "              ..\n",
      "2014-11-30     1\n",
      "2016-04-09     1\n",
      "2016-02-20     1\n",
      "2014-11-29     1\n",
      "2014-07-20     1\n",
      "Name: out_custody, Length: 1097, dtype: int64 \n",
      "\n"
     ]
    }
   ],
   "source": [
    "for i in df.columns.to_list():\n",
    "    if df[i].dtype=='object':\n",
    "        print(f'{i}:')\n",
    "        print(df[i].value_counts(),'\\n')"
   ]
  },
  {
   "cell_type": "markdown",
   "metadata": {},
   "source": [
    "## Bias on Race"
   ]
  },
  {
   "cell_type": "code",
   "execution_count": 8,
   "metadata": {},
   "outputs": [],
   "source": [
    "#1,2,3,4: Low; 5,6,7: Medium; 8,9,10 High\n",
    "df=df[(df['race']=='African-American')|(df['race']=='Caucasian')]"
   ]
  },
  {
   "cell_type": "code",
   "execution_count": 9,
   "metadata": {
    "scrolled": true
   },
   "outputs": [
    {
     "data": {
      "text/html": [
       "<div>\n",
       "<style scoped>\n",
       "    .dataframe tbody tr th:only-of-type {\n",
       "        vertical-align: middle;\n",
       "    }\n",
       "\n",
       "    .dataframe tbody tr th {\n",
       "        vertical-align: top;\n",
       "    }\n",
       "\n",
       "    .dataframe thead th {\n",
       "        text-align: right;\n",
       "    }\n",
       "</style>\n",
       "<table border=\"1\" class=\"dataframe\">\n",
       "  <thead>\n",
       "    <tr style=\"text-align: right;\">\n",
       "      <th></th>\n",
       "      <th>id</th>\n",
       "      <th>sex</th>\n",
       "      <th>age</th>\n",
       "      <th>age_cat</th>\n",
       "      <th>race</th>\n",
       "      <th>is_recid</th>\n",
       "      <th>decile_score</th>\n",
       "      <th>score_text</th>\n",
       "      <th>two_year_recid</th>\n",
       "    </tr>\n",
       "  </thead>\n",
       "  <tbody>\n",
       "    <tr>\n",
       "      <th>1</th>\n",
       "      <td>3</td>\n",
       "      <td>Male</td>\n",
       "      <td>34</td>\n",
       "      <td>25 - 45</td>\n",
       "      <td>African-American</td>\n",
       "      <td>1</td>\n",
       "      <td>3</td>\n",
       "      <td>Low</td>\n",
       "      <td>1</td>\n",
       "    </tr>\n",
       "    <tr>\n",
       "      <th>2</th>\n",
       "      <td>4</td>\n",
       "      <td>Male</td>\n",
       "      <td>24</td>\n",
       "      <td>Less than 25</td>\n",
       "      <td>African-American</td>\n",
       "      <td>1</td>\n",
       "      <td>4</td>\n",
       "      <td>Low</td>\n",
       "      <td>1</td>\n",
       "    </tr>\n",
       "    <tr>\n",
       "      <th>6</th>\n",
       "      <td>8</td>\n",
       "      <td>Male</td>\n",
       "      <td>41</td>\n",
       "      <td>25 - 45</td>\n",
       "      <td>Caucasian</td>\n",
       "      <td>1</td>\n",
       "      <td>6</td>\n",
       "      <td>Medium</td>\n",
       "      <td>1</td>\n",
       "    </tr>\n",
       "    <tr>\n",
       "      <th>8</th>\n",
       "      <td>10</td>\n",
       "      <td>Female</td>\n",
       "      <td>39</td>\n",
       "      <td>25 - 45</td>\n",
       "      <td>Caucasian</td>\n",
       "      <td>0</td>\n",
       "      <td>1</td>\n",
       "      <td>Low</td>\n",
       "      <td>0</td>\n",
       "    </tr>\n",
       "    <tr>\n",
       "      <th>10</th>\n",
       "      <td>14</td>\n",
       "      <td>Male</td>\n",
       "      <td>27</td>\n",
       "      <td>25 - 45</td>\n",
       "      <td>Caucasian</td>\n",
       "      <td>0</td>\n",
       "      <td>4</td>\n",
       "      <td>Low</td>\n",
       "      <td>0</td>\n",
       "    </tr>\n",
       "    <tr>\n",
       "      <th>...</th>\n",
       "      <td>...</td>\n",
       "      <td>...</td>\n",
       "      <td>...</td>\n",
       "      <td>...</td>\n",
       "      <td>...</td>\n",
       "      <td>...</td>\n",
       "      <td>...</td>\n",
       "      <td>...</td>\n",
       "      <td>...</td>\n",
       "    </tr>\n",
       "    <tr>\n",
       "      <th>7207</th>\n",
       "      <td>10994</td>\n",
       "      <td>Male</td>\n",
       "      <td>30</td>\n",
       "      <td>25 - 45</td>\n",
       "      <td>African-American</td>\n",
       "      <td>1</td>\n",
       "      <td>2</td>\n",
       "      <td>Low</td>\n",
       "      <td>1</td>\n",
       "    </tr>\n",
       "    <tr>\n",
       "      <th>7208</th>\n",
       "      <td>10995</td>\n",
       "      <td>Male</td>\n",
       "      <td>20</td>\n",
       "      <td>Less than 25</td>\n",
       "      <td>African-American</td>\n",
       "      <td>0</td>\n",
       "      <td>9</td>\n",
       "      <td>High</td>\n",
       "      <td>0</td>\n",
       "    </tr>\n",
       "    <tr>\n",
       "      <th>7209</th>\n",
       "      <td>10996</td>\n",
       "      <td>Male</td>\n",
       "      <td>23</td>\n",
       "      <td>Less than 25</td>\n",
       "      <td>African-American</td>\n",
       "      <td>0</td>\n",
       "      <td>7</td>\n",
       "      <td>Medium</td>\n",
       "      <td>0</td>\n",
       "    </tr>\n",
       "    <tr>\n",
       "      <th>7210</th>\n",
       "      <td>10997</td>\n",
       "      <td>Male</td>\n",
       "      <td>23</td>\n",
       "      <td>Less than 25</td>\n",
       "      <td>African-American</td>\n",
       "      <td>0</td>\n",
       "      <td>3</td>\n",
       "      <td>Low</td>\n",
       "      <td>0</td>\n",
       "    </tr>\n",
       "    <tr>\n",
       "      <th>7212</th>\n",
       "      <td>11000</td>\n",
       "      <td>Female</td>\n",
       "      <td>33</td>\n",
       "      <td>25 - 45</td>\n",
       "      <td>African-American</td>\n",
       "      <td>0</td>\n",
       "      <td>2</td>\n",
       "      <td>Low</td>\n",
       "      <td>0</td>\n",
       "    </tr>\n",
       "  </tbody>\n",
       "</table>\n",
       "<p>5278 rows × 9 columns</p>\n",
       "</div>"
      ],
      "text/plain": [
       "         id     sex  age       age_cat              race  is_recid  \\\n",
       "1         3    Male   34       25 - 45  African-American         1   \n",
       "2         4    Male   24  Less than 25  African-American         1   \n",
       "6         8    Male   41       25 - 45         Caucasian         1   \n",
       "8        10  Female   39       25 - 45         Caucasian         0   \n",
       "10       14    Male   27       25 - 45         Caucasian         0   \n",
       "...     ...     ...  ...           ...               ...       ...   \n",
       "7207  10994    Male   30       25 - 45  African-American         1   \n",
       "7208  10995    Male   20  Less than 25  African-American         0   \n",
       "7209  10996    Male   23  Less than 25  African-American         0   \n",
       "7210  10997    Male   23  Less than 25  African-American         0   \n",
       "7212  11000  Female   33       25 - 45  African-American         0   \n",
       "\n",
       "      decile_score score_text  two_year_recid  \n",
       "1                3        Low               1  \n",
       "2                4        Low               1  \n",
       "6                6     Medium               1  \n",
       "8                1        Low               0  \n",
       "10               4        Low               0  \n",
       "...            ...        ...             ...  \n",
       "7207             2        Low               1  \n",
       "7208             9       High               0  \n",
       "7209             7     Medium               0  \n",
       "7210             3        Low               0  \n",
       "7212             2        Low               0  \n",
       "\n",
       "[5278 rows x 9 columns]"
      ]
     },
     "execution_count": 9,
     "metadata": {},
     "output_type": "execute_result"
    }
   ],
   "source": [
    "df_race=df[['id','sex','age','age_cat','race','is_recid','decile_score','score_text','two_year_recid']]\n",
    "df_race"
   ]
  },
  {
   "cell_type": "code",
   "execution_count": 10,
   "metadata": {},
   "outputs": [
    {
     "data": {
      "text/plain": [
       "<AxesSubplot:>"
      ]
     },
     "execution_count": 10,
     "metadata": {},
     "output_type": "execute_result"
    },
    {
     "data": {
      "image/png": "[encoded data removed]",
      "text/plain": [
       "<Figure size 432x288 with 1 Axes>"
      ]
     },
     "metadata": {
      "needs_background": "light"
     },
     "output_type": "display_data"
    }
   ],
   "source": [
    "df_race[df_race['race']=='African-American'].decile_score.value_counts().plot(kind='bar',color='k',grid='on')"
   ]
  },
  {
   "cell_type": "code",
   "execution_count": 11,
   "metadata": {},
   "outputs": [
    {
     "data": {
      "text/plain": [
       "<AxesSubplot:>"
      ]
     },
     "execution_count": 11,
     "metadata": {},
     "output_type": "execute_result"
    },
    {
     "data": {
      "image/png": "[encoded data removed]",
      "text/plain": [
       "<Figure size 432x288 with 1 Axes>"
      ]
     },
     "metadata": {
      "needs_background": "light"
     },
     "output_type": "display_data"
    }
   ],
   "source": [
    "df_race[df_race['race']=='Caucasian'].decile_score.value_counts().plot(kind='bar',color='k',grid='on')"
   ]
  },
  {
   "cell_type": "code",
   "execution_count": 12,
   "metadata": {},
   "outputs": [],
   "source": [
    "import matplotlib.pyplot as plt"
   ]
  },
  {
   "cell_type": "code",
   "execution_count": 13,
   "metadata": {},
   "outputs": [
    {
     "data": {
      "image/png": "[encoded data removed]",
      "text/plain": [
       "<Figure size 1440x720 with 2 Axes>"
      ]
     },
     "metadata": {
      "needs_background": "light"
     },
     "output_type": "display_data"
    }
   ],
   "source": [
    "plt.figure(figsize=(20,10))\n",
    "plt.subplot(121)\n",
    "df_race[df_race['race']=='African-American'].decile_score.value_counts().plot(kind='bar',color='k',grid='on')\n",
    "plt.title('African-American',fontsize=20)\n",
    "plt.xlabel('Decile score',fontsize=20)\n",
    "plt.ylabel('Count',fontsize=20)\n",
    "plt.subplot(122)\n",
    "df_race[df_race['race']=='Caucasian'].decile_score.value_counts().plot(kind='bar',color='k',grid='on')\n",
    "plt.title('Caucasian',fontsize=20)\n",
    "plt.xlabel('Decile score',fontsize=20)\n",
    "plt.ylabel('Count',fontsize=20)\n",
    "plt.savefig(\"D:\\\\文件夹\\\\USC\\\\Spring-Summer\\\\DSCI552\\\\project\\\\social_justice\\\\final_project\\\\image\\\\Statics.png\")"
   ]
  },
  {
   "cell_type": "code",
   "execution_count": 14,
   "metadata": {},
   "outputs": [
    {
     "data": {
      "text/html": [
       "<div>\n",
       "<style scoped>\n",
       "    .dataframe tbody tr th:only-of-type {\n",
       "        vertical-align: middle;\n",
       "    }\n",
       "\n",
       "    .dataframe tbody tr th {\n",
       "        vertical-align: top;\n",
       "    }\n",
       "\n",
       "    .dataframe thead th {\n",
       "        text-align: right;\n",
       "    }\n",
       "</style>\n",
       "<table border=\"1\" class=\"dataframe\">\n",
       "  <thead>\n",
       "    <tr style=\"text-align: right;\">\n",
       "      <th></th>\n",
       "      <th>id</th>\n",
       "      <th>sex</th>\n",
       "      <th>age</th>\n",
       "      <th>age_cat</th>\n",
       "      <th>race</th>\n",
       "      <th>is_recid</th>\n",
       "      <th>decile_score</th>\n",
       "      <th>score_text</th>\n",
       "      <th>two_year_recid</th>\n",
       "    </tr>\n",
       "  </thead>\n",
       "  <tbody>\n",
       "    <tr>\n",
       "      <th>1</th>\n",
       "      <td>3</td>\n",
       "      <td>Male</td>\n",
       "      <td>34</td>\n",
       "      <td>25 - 45</td>\n",
       "      <td>African-American</td>\n",
       "      <td>1</td>\n",
       "      <td>3</td>\n",
       "      <td>Low</td>\n",
       "      <td>1</td>\n",
       "    </tr>\n",
       "    <tr>\n",
       "      <th>2</th>\n",
       "      <td>4</td>\n",
       "      <td>Male</td>\n",
       "      <td>24</td>\n",
       "      <td>Less than 25</td>\n",
       "      <td>African-American</td>\n",
       "      <td>1</td>\n",
       "      <td>4</td>\n",
       "      <td>Low</td>\n",
       "      <td>1</td>\n",
       "    </tr>\n",
       "    <tr>\n",
       "      <th>6</th>\n",
       "      <td>8</td>\n",
       "      <td>Male</td>\n",
       "      <td>41</td>\n",
       "      <td>25 - 45</td>\n",
       "      <td>Caucasian</td>\n",
       "      <td>1</td>\n",
       "      <td>6</td>\n",
       "      <td>Medium</td>\n",
       "      <td>1</td>\n",
       "    </tr>\n",
       "    <tr>\n",
       "      <th>8</th>\n",
       "      <td>10</td>\n",
       "      <td>Female</td>\n",
       "      <td>39</td>\n",
       "      <td>25 - 45</td>\n",
       "      <td>Caucasian</td>\n",
       "      <td>0</td>\n",
       "      <td>1</td>\n",
       "      <td>Low</td>\n",
       "      <td>0</td>\n",
       "    </tr>\n",
       "    <tr>\n",
       "      <th>10</th>\n",
       "      <td>14</td>\n",
       "      <td>Male</td>\n",
       "      <td>27</td>\n",
       "      <td>25 - 45</td>\n",
       "      <td>Caucasian</td>\n",
       "      <td>0</td>\n",
       "      <td>4</td>\n",
       "      <td>Low</td>\n",
       "      <td>0</td>\n",
       "    </tr>\n",
       "    <tr>\n",
       "      <th>...</th>\n",
       "      <td>...</td>\n",
       "      <td>...</td>\n",
       "      <td>...</td>\n",
       "      <td>...</td>\n",
       "      <td>...</td>\n",
       "      <td>...</td>\n",
       "      <td>...</td>\n",
       "      <td>...</td>\n",
       "      <td>...</td>\n",
       "    </tr>\n",
       "    <tr>\n",
       "      <th>7207</th>\n",
       "      <td>10994</td>\n",
       "      <td>Male</td>\n",
       "      <td>30</td>\n",
       "      <td>25 - 45</td>\n",
       "      <td>African-American</td>\n",
       "      <td>1</td>\n",
       "      <td>2</td>\n",
       "      <td>Low</td>\n",
       "      <td>1</td>\n",
       "    </tr>\n",
       "    <tr>\n",
       "      <th>7208</th>\n",
       "      <td>10995</td>\n",
       "      <td>Male</td>\n",
       "      <td>20</td>\n",
       "      <td>Less than 25</td>\n",
       "      <td>African-American</td>\n",
       "      <td>0</td>\n",
       "      <td>9</td>\n",
       "      <td>High</td>\n",
       "      <td>0</td>\n",
       "    </tr>\n",
       "    <tr>\n",
       "      <th>7209</th>\n",
       "      <td>10996</td>\n",
       "      <td>Male</td>\n",
       "      <td>23</td>\n",
       "      <td>Less than 25</td>\n",
       "      <td>African-American</td>\n",
       "      <td>0</td>\n",
       "      <td>7</td>\n",
       "      <td>Medium</td>\n",
       "      <td>0</td>\n",
       "    </tr>\n",
       "    <tr>\n",
       "      <th>7210</th>\n",
       "      <td>10997</td>\n",
       "      <td>Male</td>\n",
       "      <td>23</td>\n",
       "      <td>Less than 25</td>\n",
       "      <td>African-American</td>\n",
       "      <td>0</td>\n",
       "      <td>3</td>\n",
       "      <td>Low</td>\n",
       "      <td>0</td>\n",
       "    </tr>\n",
       "    <tr>\n",
       "      <th>7212</th>\n",
       "      <td>11000</td>\n",
       "      <td>Female</td>\n",
       "      <td>33</td>\n",
       "      <td>25 - 45</td>\n",
       "      <td>African-American</td>\n",
       "      <td>0</td>\n",
       "      <td>2</td>\n",
       "      <td>Low</td>\n",
       "      <td>0</td>\n",
       "    </tr>\n",
       "  </tbody>\n",
       "</table>\n",
       "<p>5278 rows × 9 columns</p>\n",
       "</div>"
      ],
      "text/plain": [
       "         id     sex  age       age_cat              race  is_recid  \\\n",
       "1         3    Male   34       25 - 45  African-American         1   \n",
       "2         4    Male   24  Less than 25  African-American         1   \n",
       "6         8    Male   41       25 - 45         Caucasian         1   \n",
       "8        10  Female   39       25 - 45         Caucasian         0   \n",
       "10       14    Male   27       25 - 45         Caucasian         0   \n",
       "...     ...     ...  ...           ...               ...       ...   \n",
       "7207  10994    Male   30       25 - 45  African-American         1   \n",
       "7208  10995    Male   20  Less than 25  African-American         0   \n",
       "7209  10996    Male   23  Less than 25  African-American         0   \n",
       "7210  10997    Male   23  Less than 25  African-American         0   \n",
       "7212  11000  Female   33       25 - 45  African-American         0   \n",
       "\n",
       "      decile_score score_text  two_year_recid  \n",
       "1                3        Low               1  \n",
       "2                4        Low               1  \n",
       "6                6     Medium               1  \n",
       "8                1        Low               0  \n",
       "10               4        Low               0  \n",
       "...            ...        ...             ...  \n",
       "7207             2        Low               1  \n",
       "7208             9       High               0  \n",
       "7209             7     Medium               0  \n",
       "7210             3        Low               0  \n",
       "7212             2        Low               0  \n",
       "\n",
       "[5278 rows x 9 columns]"
      ]
     },
     "execution_count": 14,
     "metadata": {},
     "output_type": "execute_result"
    }
   ],
   "source": [
    "df_race"
   ]
  },
  {
   "cell_type": "markdown",
   "metadata": {},
   "source": [
    "# Black Recidivism Rates"
   ]
  },
  {
   "cell_type": "code",
   "execution_count": 15,
   "metadata": {},
   "outputs": [
    {
     "data": {
      "text/html": [
       "<div>\n",
       "<style scoped>\n",
       "    .dataframe tbody tr th:only-of-type {\n",
       "        vertical-align: middle;\n",
       "    }\n",
       "\n",
       "    .dataframe tbody tr th {\n",
       "        vertical-align: top;\n",
       "    }\n",
       "\n",
       "    .dataframe thead th {\n",
       "        text-align: right;\n",
       "    }\n",
       "</style>\n",
       "<table border=\"1\" class=\"dataframe\">\n",
       "  <thead>\n",
       "    <tr style=\"text-align: right;\">\n",
       "      <th></th>\n",
       "      <th>decile_score</th>\n",
       "      <th>two_year_recid</th>\n",
       "    </tr>\n",
       "  </thead>\n",
       "  <tbody>\n",
       "    <tr>\n",
       "      <th>1</th>\n",
       "      <td>3</td>\n",
       "      <td>1</td>\n",
       "    </tr>\n",
       "    <tr>\n",
       "      <th>2</th>\n",
       "      <td>4</td>\n",
       "      <td>1</td>\n",
       "    </tr>\n",
       "    <tr>\n",
       "      <th>11</th>\n",
       "      <td>6</td>\n",
       "      <td>1</td>\n",
       "    </tr>\n",
       "    <tr>\n",
       "      <th>13</th>\n",
       "      <td>4</td>\n",
       "      <td>0</td>\n",
       "    </tr>\n",
       "    <tr>\n",
       "      <th>15</th>\n",
       "      <td>3</td>\n",
       "      <td>1</td>\n",
       "    </tr>\n",
       "    <tr>\n",
       "      <th>...</th>\n",
       "      <td>...</td>\n",
       "      <td>...</td>\n",
       "    </tr>\n",
       "    <tr>\n",
       "      <th>7207</th>\n",
       "      <td>2</td>\n",
       "      <td>1</td>\n",
       "    </tr>\n",
       "    <tr>\n",
       "      <th>7208</th>\n",
       "      <td>9</td>\n",
       "      <td>0</td>\n",
       "    </tr>\n",
       "    <tr>\n",
       "      <th>7209</th>\n",
       "      <td>7</td>\n",
       "      <td>0</td>\n",
       "    </tr>\n",
       "    <tr>\n",
       "      <th>7210</th>\n",
       "      <td>3</td>\n",
       "      <td>0</td>\n",
       "    </tr>\n",
       "    <tr>\n",
       "      <th>7212</th>\n",
       "      <td>2</td>\n",
       "      <td>0</td>\n",
       "    </tr>\n",
       "  </tbody>\n",
       "</table>\n",
       "<p>3175 rows × 2 columns</p>\n",
       "</div>"
      ],
      "text/plain": [
       "      decile_score  two_year_recid\n",
       "1                3               1\n",
       "2                4               1\n",
       "11               6               1\n",
       "13               4               0\n",
       "15               3               1\n",
       "...            ...             ...\n",
       "7207             2               1\n",
       "7208             9               0\n",
       "7209             7               0\n",
       "7210             3               0\n",
       "7212             2               0\n",
       "\n",
       "[3175 rows x 2 columns]"
      ]
     },
     "execution_count": 15,
     "metadata": {},
     "output_type": "execute_result"
    }
   ],
   "source": [
    "df_race_AA_score=df_race[df_race['race']=='African-American'][['decile_score','two_year_recid']]\n",
    "df_race_AA_score"
   ]
  },
  {
   "cell_type": "code",
   "execution_count": 16,
   "metadata": {},
   "outputs": [
    {
     "data": {
      "text/plain": [
       "array([365, 346, 298, 337, 323, 318, 343, 301, 317, 227], dtype=int64)"
      ]
     },
     "execution_count": 16,
     "metadata": {},
     "output_type": "execute_result"
    }
   ],
   "source": [
    "AA_all=df_race_AA_score['decile_score'].value_counts().sort_index().values\n",
    "AA_all"
   ]
  },
  {
   "cell_type": "code",
   "execution_count": 17,
   "metadata": {},
   "outputs": [
    {
     "data": {
      "text/plain": [
       "array([ 85, 105, 125, 158, 158, 187, 209, 215, 229, 190], dtype=int64)"
      ]
     },
     "execution_count": 17,
     "metadata": {},
     "output_type": "execute_result"
    }
   ],
   "source": [
    "AA_recid=df_race_AA_score[df_race_AA_score['two_year_recid']==1]['decile_score'].value_counts().sort_index().values\n",
    "AA_recid"
   ]
  },
  {
   "cell_type": "code",
   "execution_count": 18,
   "metadata": {},
   "outputs": [],
   "source": [
    "AA_ratio=AA_recid/AA_all"
   ]
  },
  {
   "cell_type": "markdown",
   "metadata": {},
   "source": [
    "# White Recidivism Rates"
   ]
  },
  {
   "cell_type": "code",
   "execution_count": 19,
   "metadata": {
    "scrolled": true
   },
   "outputs": [
    {
     "data": {
      "text/html": [
       "<div>\n",
       "<style scoped>\n",
       "    .dataframe tbody tr th:only-of-type {\n",
       "        vertical-align: middle;\n",
       "    }\n",
       "\n",
       "    .dataframe tbody tr th {\n",
       "        vertical-align: top;\n",
       "    }\n",
       "\n",
       "    .dataframe thead th {\n",
       "        text-align: right;\n",
       "    }\n",
       "</style>\n",
       "<table border=\"1\" class=\"dataframe\">\n",
       "  <thead>\n",
       "    <tr style=\"text-align: right;\">\n",
       "      <th></th>\n",
       "      <th>decile_score</th>\n",
       "      <th>two_year_recid</th>\n",
       "    </tr>\n",
       "  </thead>\n",
       "  <tbody>\n",
       "    <tr>\n",
       "      <th>6</th>\n",
       "      <td>6</td>\n",
       "      <td>1</td>\n",
       "    </tr>\n",
       "    <tr>\n",
       "      <th>8</th>\n",
       "      <td>1</td>\n",
       "      <td>0</td>\n",
       "    </tr>\n",
       "    <tr>\n",
       "      <th>10</th>\n",
       "      <td>4</td>\n",
       "      <td>0</td>\n",
       "    </tr>\n",
       "    <tr>\n",
       "      <th>12</th>\n",
       "      <td>1</td>\n",
       "      <td>0</td>\n",
       "    </tr>\n",
       "    <tr>\n",
       "      <th>14</th>\n",
       "      <td>1</td>\n",
       "      <td>1</td>\n",
       "    </tr>\n",
       "    <tr>\n",
       "      <th>...</th>\n",
       "      <td>...</td>\n",
       "      <td>...</td>\n",
       "    </tr>\n",
       "    <tr>\n",
       "      <th>7188</th>\n",
       "      <td>1</td>\n",
       "      <td>0</td>\n",
       "    </tr>\n",
       "    <tr>\n",
       "      <th>7192</th>\n",
       "      <td>2</td>\n",
       "      <td>0</td>\n",
       "    </tr>\n",
       "    <tr>\n",
       "      <th>7194</th>\n",
       "      <td>1</td>\n",
       "      <td>1</td>\n",
       "    </tr>\n",
       "    <tr>\n",
       "      <th>7199</th>\n",
       "      <td>8</td>\n",
       "      <td>0</td>\n",
       "    </tr>\n",
       "    <tr>\n",
       "      <th>7206</th>\n",
       "      <td>6</td>\n",
       "      <td>1</td>\n",
       "    </tr>\n",
       "  </tbody>\n",
       "</table>\n",
       "<p>2103 rows × 2 columns</p>\n",
       "</div>"
      ],
      "text/plain": [
       "      decile_score  two_year_recid\n",
       "6                6               1\n",
       "8                1               0\n",
       "10               4               0\n",
       "12               1               0\n",
       "14               1               1\n",
       "...            ...             ...\n",
       "7188             1               0\n",
       "7192             2               0\n",
       "7194             1               1\n",
       "7199             8               0\n",
       "7206             6               1\n",
       "\n",
       "[2103 rows x 2 columns]"
      ]
     },
     "execution_count": 19,
     "metadata": {},
     "output_type": "execute_result"
    }
   ],
   "source": [
    "df_race_C_score=df_race[df_race['race']=='Caucasian'][['decile_score','two_year_recid']]\n",
    "df_race_C_score"
   ]
  },
  {
   "cell_type": "code",
   "execution_count": 20,
   "metadata": {},
   "outputs": [
    {
     "data": {
      "text/plain": [
       "array([605, 321, 238, 243, 200, 160, 113,  96,  77,  50], dtype=int64)"
      ]
     },
     "execution_count": 20,
     "metadata": {},
     "output_type": "execute_result"
    }
   ],
   "source": [
    "C_all=df_race_C_score['decile_score'].value_counts().sort_index().values\n",
    "C_all"
   ]
  },
  {
   "cell_type": "code",
   "execution_count": 21,
   "metadata": {},
   "outputs": [
    {
     "data": {
      "text/plain": [
       "array([128, 100,  82,  98,  91,  93,  68,  72,  55,  35], dtype=int64)"
      ]
     },
     "execution_count": 21,
     "metadata": {},
     "output_type": "execute_result"
    }
   ],
   "source": [
    "C_recid=df_race_C_score[df_race_C_score['two_year_recid']==1]['decile_score'].value_counts().sort_index().values\n",
    "C_recid"
   ]
  },
  {
   "cell_type": "code",
   "execution_count": 22,
   "metadata": {},
   "outputs": [],
   "source": [
    "C_ratio=C_recid/C_all"
   ]
  },
  {
   "cell_type": "code",
   "execution_count": 23,
   "metadata": {},
   "outputs": [
    {
     "data": {
      "text/plain": [
       "(array([0.23287671, 0.30346821, 0.41946309, 0.46884273, 0.48916409,\n",
       "        0.58805031, 0.60932945, 0.71428571, 0.72239748, 0.83700441]),\n",
       " array([0.21157025, 0.31152648, 0.34453782, 0.40329218, 0.455     ,\n",
       "        0.58125   , 0.60176991, 0.75      , 0.71428571, 0.7       ]))"
      ]
     },
     "execution_count": 23,
     "metadata": {},
     "output_type": "execute_result"
    }
   ],
   "source": [
    "AA_ratio,C_ratio"
   ]
  },
  {
   "cell_type": "code",
   "execution_count": null,
   "metadata": {},
   "outputs": [
    {
     "data": {
      "image/png": "[encoded data removed]",
      "text/plain": [
       "<Figure size 720x720 with 1 Axes>"
      ]
     },
     "metadata": {
      "needs_background": "light"
     },
     "output_type": "display_data"
    }
   ],
   "source": [
    "x=range(1,11)\n",
    "plt.figure(figsize=[10,10])\n",
    "plt.plot(x, AA_ratio, marker='o', mec='r', mfc='w',label=u'Black')\n",
    "plt.plot(x, C_ratio, marker='*', ms=10,label=u'White')\n",
    "plt.legend() \n",
    "plt.subplots_adjust(bottom=0.15)\n",
    "plt.xlabel('Risk Score')\n",
    "plt.ylabel(\"Rates of recidivism\") \n",
    "plt.grid()\n",
    "plt.title(\"Recidivism rates of different risk score\")\n",
    "plt.savefig(\"Recidivism_score.png\")"
   ]
  },
  {
   "cell_type": "markdown",
   "metadata": {},
   "source": [
    "# In the Low/High perspectives"
   ]
  },
  {
   "cell_type": "code",
   "execution_count": null,
   "metadata": {},
   "outputs": [],
   "source": [
    "df_race"
   ]
  },
  {
   "cell_type": "code",
   "execution_count": null,
   "metadata": {},
   "outputs": [],
   "source": [
    "df_race[(df_race['race']=='African-American') & (df_race['score_text']=='High')].two_year_recid.value_counts().sort_index().values"
   ]
  },
  {
   "cell_type": "code",
   "execution_count": null,
   "metadata": {},
   "outputs": [],
   "source": [
    "df_race[(df_race['race']=='African-American') & (df_race['score_text']=='Medium')].two_year_recid.value_counts().sort_index().values"
   ]
  },
  {
   "cell_type": "code",
   "execution_count": null,
   "metadata": {},
   "outputs": [],
   "source": [
    "df_race[(df_race['race']=='African-American') & (df_race['score_text']=='Low')].two_year_recid.value_counts().sort_index().values"
   ]
  },
  {
   "cell_type": "code",
   "execution_count": null,
   "metadata": {},
   "outputs": [],
   "source": [
    "df_race[(df_race['race']=='Caucasian') & (df_race['score_text']=='High')].two_year_recid.value_counts().sort_index().values"
   ]
  },
  {
   "cell_type": "code",
   "execution_count": null,
   "metadata": {},
   "outputs": [],
   "source": [
    "df_race[(df_race['race']=='Caucasian') & (df_race['score_text']=='Medium')].two_year_recid.value_counts().sort_index().values"
   ]
  },
  {
   "cell_type": "code",
   "execution_count": null,
   "metadata": {},
   "outputs": [],
   "source": [
    "df_race[(df_race['race']=='Caucasian') & (df_race['score_text']=='Low')].two_year_recid.value_counts().sort_index().values"
   ]
  },
  {
   "cell_type": "code",
   "execution_count": null,
   "metadata": {},
   "outputs": [],
   "source": [
    "df_race[(df_race['race']=='African-American') & (df_race['decile_score']<=5)].two_year_recid.value_counts().sort_index().values"
   ]
  },
  {
   "cell_type": "code",
   "execution_count": null,
   "metadata": {},
   "outputs": [],
   "source": [
    "df_race[(df_race['race']=='African-American') & (df_race['decile_score']>5)].two_year_recid.value_counts().sort_index().values"
   ]
  },
  {
   "cell_type": "code",
   "execution_count": null,
   "metadata": {},
   "outputs": [],
   "source": [
    "df_race[(df_race['race']=='Caucasian') & (df_race['decile_score']<5)].two_year_recid.value_counts().sort_index().values"
   ]
  },
  {
   "cell_type": "code",
   "execution_count": null,
   "metadata": {},
   "outputs": [],
   "source": [
    "df_race[(df_race['race']=='Caucasian') & (df_race['decile_score']>=5)].two_year_recid.value_counts().sort_index().values"
   ]
  },
  {
   "cell_type": "code",
   "execution_count": null,
   "metadata": {},
   "outputs": [],
   "source": [
    "df_race['COMPAS_score']=df_race['decile_score'].map(lambda a : 1 if a>=5 else 0)"
   ]
  },
  {
   "cell_type": "code",
   "execution_count": null,
   "metadata": {},
   "outputs": [],
   "source": [
    "df_race"
   ]
  },
  {
   "cell_type": "code",
   "execution_count": null,
   "metadata": {},
   "outputs": [],
   "source": [
    "df_race_BL=df_race[(df['race']=='African-American')&(df_race['COMPAS_score']==0)&(df_race['two_year_recid']==0)].shape[0]\n",
    "df_race_BL_R=df_race[(df['race']=='African-American')&(df_race['COMPAS_score']==0)&(df_race['two_year_recid']==1)].shape[0]\n",
    "df_race_BH=df_race[(df['race']=='African-American')&(df_race['COMPAS_score']==1)&(df_race['two_year_recid']==0)].shape[0]\n",
    "df_race_BH_R=df_race[(df['race']=='African-American')&(df_race['COMPAS_score']==1)&(df_race['two_year_recid']==1)].shape[0]"
   ]
  },
  {
   "cell_type": "code",
   "execution_count": null,
   "metadata": {},
   "outputs": [],
   "source": [
    "df_race_BL,df_race_BL_R,df_race_BH,df_race_BH_R"
   ]
  },
  {
   "cell_type": "code",
   "execution_count": null,
   "metadata": {},
   "outputs": [],
   "source": [
    "df_race_CL=df_race[(df['race']=='Caucasian')&(df_race['COMPAS_score']==0)&(df_race['two_year_recid']==0)].shape[0]\n",
    "df_race_CL_R=df_race[(df['race']=='Caucasian')&(df_race['COMPAS_score']==0)&(df_race['two_year_recid']==1)].shape[0]\n",
    "df_race_CH=df_race[(df['race']=='Caucasian')&(df_race['COMPAS_score']==1)&(df_race['two_year_recid']==0)].shape[0]\n",
    "df_race_CH_R=df_race[(df['race']=='Caucasian')&(df_race['COMPAS_score']==1)&(df_race['two_year_recid']==1)].shape[0]"
   ]
  },
  {
   "cell_type": "code",
   "execution_count": null,
   "metadata": {},
   "outputs": [],
   "source": [
    "df_race_CL,df_race_CL_R,df_race_CH,df_race_CH_R"
   ]
  },
  {
   "cell_type": "code",
   "execution_count": null,
   "metadata": {},
   "outputs": [],
   "source": [
    "import matplotlib as mpl\n",
    "\n",
    "mpl.rcParams[\"font.sans-serif\"] = [\"SimHei\"]\n",
    "mpl.rcParams[\"axes.unicode_minus\"] = False\n",
    "\n",
    "x = ['Low','Medium/High']\n",
    "y = [df_race_BL,df_race_BH]\n",
    "y1 = [df_race_BL_R,df_race_BH_R]\n",
    "\n",
    "plt.figure(figsize=[12,6])\n",
    "plt.subplot(121)\n",
    "plt.bar(x, y, align=\"center\", color=\"#66c2a5\", tick_label=x, label=\"Black and not reoffend\")\n",
    "plt.bar(x, y1, align=\"center\", bottom=y, color=\"#8da0cb\", label=\"Black and reoffend\")\n",
    "\n",
    "plt.xlabel(\"Category\")\n",
    "plt.ylabel(\"Number of people\")\n",
    "plt.ylim(0,2000)\n",
    "plt.legend()\n",
    "\n",
    "y = [df_race_CL,df_race_CH]\n",
    "y1 = [df_race_CL_R,df_race_CH_R]\n",
    "plt.subplot(122)\n",
    "plt.bar(x, y, align=\"center\", color=\"#66c2a5\", tick_label=x, label=\"White and not reoffend\")\n",
    "plt.bar(x, y1, align=\"center\", bottom=y, color=\"#8da0cb\", label=\"White and reoffend\")\n",
    "\n",
    "plt.xlabel(\"Category\")\n",
    "plt.ylabel(\"Number of people\")\n",
    "plt.ylim(0,2000)\n",
    "plt.legend()\n",
    "plt.savefig(\"Recidivism_number.png\")"
   ]
  },
  {
   "cell_type": "code",
   "execution_count": null,
   "metadata": {},
   "outputs": [],
   "source": [
    "def plot_confusion_matrix(cm, classes,normalize=False,\n",
    "                          title='Confusion matrix',\n",
    "                          cmap=plt.cm.Blues):\n",
    "    \"\"\"\n",
    "    This function prints and plots the confusion matrix.\n",
    "    Normalization can be applied by setting `normalize=True`.\n",
    "    \"\"\"\n",
    "    import itertools\n",
    "    if normalize:\n",
    "        cm = cm.astype('float') / cm.sum(axis=1)[:, np.newaxis]\n",
    "        print(\"Normalized confusion matrix\")\n",
    "    else:\n",
    "        print('Confusion matrix, without normalization')\n",
    "\n",
    "    print(cm)\n",
    "\n",
    "    plt.imshow(cm, interpolation='nearest', cmap=cmap)\n",
    "    plt.title(title,fontsize=20)\n",
    "    plt.colorbar()\n",
    "    tick_marks = np.arange(len(classes))\n",
    "    plt.xticks(tick_marks, classes, rotation=45)\n",
    "    plt.yticks(tick_marks, classes)\n",
    "\n",
    "    fmt = '.2f' if normalize else 'd'\n",
    "    thresh = cm.max() / 2.\n",
    "    for i, j in itertools.product(range(cm.shape[0]), range(cm.shape[1])):\n",
    "        plt.text(j, i, format(cm[i, j], fmt),\n",
    "                 horizontalalignment=\"center\",\n",
    "                 color=\"white\" if cm[i, j] > thresh else \"black\",fontsize=20)\n",
    "\n",
    "    plt.ylabel('True label',fontsize=20)\n",
    "    plt.xlabel('Predicted label',fontsize=20)\n",
    "    plt.tight_layout()\n"
   ]
  },
  {
   "cell_type": "code",
   "execution_count": null,
   "metadata": {},
   "outputs": [],
   "source": [
    "from sklearn.metrics import confusion_matrix\n",
    "import numpy as np\n",
    "y_true_race_all=np.array(df_race['two_year_recid'])\n",
    "y_pred_race_all=np.array(df_race['COMPAS_score'])\n",
    "confusion_matrix(y_true_race_all, y_pred_race_all)\n"
   ]
  },
  {
   "cell_type": "code",
   "execution_count": null,
   "metadata": {
    "scrolled": true
   },
   "outputs": [],
   "source": [
    "plot_confusion_matrix(confusion_matrix(y_true_race_all, y_pred_race_all),['0','1'],title='Bias in Race')"
   ]
  },
  {
   "cell_type": "code",
   "execution_count": null,
   "metadata": {},
   "outputs": [],
   "source": [
    "from sklearn.metrics import classification_report\n",
    "print('\\nClassification Report\\n')\n",
    "print(classification_report(df_race['two_year_recid'], df_race['COMPAS_score']))"
   ]
  },
  {
   "cell_type": "code",
   "execution_count": null,
   "metadata": {},
   "outputs": [],
   "source": [
    "from sklearn.metrics import confusion_matrix\n",
    "import numpy as np\n",
    "y_true_race_Ca=np.array(df_race[df_race['race']=='Caucasian']['two_year_recid'])\n",
    "y_pred_race_Ca=np.array(df_race[df_race['race']=='Caucasian']['COMPAS_score'])\n",
    "confusion_matrix(y_true_race_Ca, y_pred_race_Ca)\n"
   ]
  },
  {
   "cell_type": "code",
   "execution_count": null,
   "metadata": {
    "scrolled": true
   },
   "outputs": [],
   "source": [
    "plot_confusion_matrix(confusion_matrix(y_true_race_Ca, y_pred_race_Ca),['0','1'],title='Bias in Race(Caucasian)')"
   ]
  },
  {
   "cell_type": "code",
   "execution_count": null,
   "metadata": {
    "scrolled": true
   },
   "outputs": [],
   "source": [
    "from sklearn.metrics import classification_report\n",
    "print('\\nClassification Report\\n')\n",
    "print(classification_report(df_race[df_race['race']=='Caucasian'].two_year_recid,df_race[df_race['race']=='Caucasian'].COMPAS_score))"
   ]
  },
  {
   "cell_type": "code",
   "execution_count": null,
   "metadata": {},
   "outputs": [],
   "source": [
    "from sklearn.metrics import confusion_matrix\n",
    "import numpy as np\n",
    "y_true_race_AA=np.array(df_race[df_race['race']=='African-American']['two_year_recid'])\n",
    "y_pred_race_AA=np.array(df_race[df_race['race']=='African-American']['COMPAS_score'])\n",
    "confusion_matrix(y_true_race_AA, y_pred_race_AA)\n"
   ]
  },
  {
   "cell_type": "code",
   "execution_count": null,
   "metadata": {
    "scrolled": true
   },
   "outputs": [],
   "source": [
    "plot_confusion_matrix(confusion_matrix(y_true_race_AA, y_pred_race_AA),['0','1'],title='Bias in Race(African-American)')"
   ]
  },
  {
   "cell_type": "code",
   "execution_count": null,
   "metadata": {
    "scrolled": true
   },
   "outputs": [],
   "source": [
    "from sklearn.metrics import classification_report\n",
    "print('\\nClassification Report\\n')\n",
    "print(classification_report(df_race[df_race['race']=='African-American'].two_year_recid,df_race[df_race['race']=='African-American'].COMPAS_score))"
   ]
  },
  {
   "cell_type": "code",
   "execution_count": null,
   "metadata": {
    "scrolled": false
   },
   "outputs": [],
   "source": [
    "plt.figure(figsize=(18,6))\n",
    "plt.subplot(131)\n",
    "plot_confusion_matrix(confusion_matrix(y_true_race_AA, y_pred_race_AA),['0','1'],title='Bias in Race(African-American)')\n",
    "plt.subplot(132)\n",
    "plot_confusion_matrix(confusion_matrix(y_true_race_Ca, y_pred_race_Ca),['0','1'],title='Bias in Race(Caucasian)')\n",
    "plt.subplot(133)\n",
    "plot_confusion_matrix(confusion_matrix(y_true_race_all, y_pred_race_all),['0','1'],title='Bias in Race')\n",
    "plt.savefig(\"Race.png\")"
   ]
  },
  {
   "cell_type": "code",
   "execution_count": null,
   "metadata": {},
   "outputs": [],
   "source": [
    "df1=df[df['is_recid']!=df['two_year_recid']]\n",
    "df1\n",
    "df1[['compas_screening_date','c_jail_in','c_jail_out','r_days_from_arrest','r_offense_date','is_recid','two_year_recid']]"
   ]
  },
  {
   "cell_type": "markdown",
   "metadata": {},
   "source": [
    "# Bias on Gender"
   ]
  },
  {
   "cell_type": "code",
   "execution_count": null,
   "metadata": {},
   "outputs": [],
   "source": [
    "df_gender=csty[(csty['days_b_screening_arrest']<=30.0)& (csty['days_b_screening_arrest']>=-30.0)&(csty['is_recid'] != -1)\n",
    "       &(csty['c_charge_degree']!='O')&(csty['score_text']!='N/A')]\n",
    "df_gender"
   ]
  },
  {
   "cell_type": "code",
   "execution_count": null,
   "metadata": {
    "scrolled": true
   },
   "outputs": [],
   "source": [
    "df_gender['COMPAS_score']=df_gender['decile_score'].map(lambda a : 1 if a>=5 else 0)"
   ]
  },
  {
   "cell_type": "code",
   "execution_count": null,
   "metadata": {},
   "outputs": [],
   "source": [
    "df_gender"
   ]
  },
  {
   "cell_type": "markdown",
   "metadata": {},
   "source": [
    "# Gender Recidivism Rates"
   ]
  },
  {
   "cell_type": "code",
   "execution_count": null,
   "metadata": {
    "scrolled": true
   },
   "outputs": [],
   "source": [
    "df_gender_M_score=df_gender[df_gender['sex']=='Male'][['sex','decile_score','two_year_recid']]\n",
    "df_gender_M_score"
   ]
  },
  {
   "cell_type": "code",
   "execution_count": null,
   "metadata": {},
   "outputs": [],
   "source": [
    "M_all=df_gender_M_score['decile_score'].value_counts().sort_index().values\n",
    "M_all"
   ]
  },
  {
   "cell_type": "code",
   "execution_count": null,
   "metadata": {},
   "outputs": [],
   "source": [
    "M_recid=df_gender_M_score[df_gender_M_score['two_year_recid']==1]['decile_score'].value_counts().sort_index().values\n",
    "M_recid"
   ]
  },
  {
   "cell_type": "code",
   "execution_count": null,
   "metadata": {},
   "outputs": [],
   "source": [
    "M_ratio=M_recid/M_all"
   ]
  },
  {
   "cell_type": "code",
   "execution_count": null,
   "metadata": {
    "scrolled": true
   },
   "outputs": [],
   "source": [
    "df_gender_F_score=df_gender[df_gender['sex']=='Female'][['decile_score','two_year_recid']]\n",
    "df_gender_F_score"
   ]
  },
  {
   "cell_type": "code",
   "execution_count": null,
   "metadata": {},
   "outputs": [],
   "source": [
    "F_all=df_gender_F_score['decile_score'].value_counts().sort_index().values\n",
    "F_all"
   ]
  },
  {
   "cell_type": "code",
   "execution_count": null,
   "metadata": {},
   "outputs": [],
   "source": [
    "F_recid=df_gender_F_score[df_gender_F_score['two_year_recid']==1]['decile_score'].value_counts().sort_index().values\n",
    "F_recid"
   ]
  },
  {
   "cell_type": "code",
   "execution_count": null,
   "metadata": {},
   "outputs": [],
   "source": [
    "F_ratio=F_recid/F_all"
   ]
  },
  {
   "cell_type": "code",
   "execution_count": null,
   "metadata": {},
   "outputs": [],
   "source": [
    "M_ratio,F_ratio"
   ]
  },
  {
   "cell_type": "code",
   "execution_count": null,
   "metadata": {},
   "outputs": [],
   "source": [
    "x=range(1,11)\n",
    "plt.figure(figsize=[10,10])\n",
    "plt.plot(x, M_ratio, marker='o', mec='r', mfc='w',label=u'Male')\n",
    "plt.plot(x, F_ratio, marker='*', ms=10,label=u'Female')\n",
    "plt.legend() \n",
    "plt.subplots_adjust(bottom=0.15)\n",
    "plt.xlabel('Risk Score')\n",
    "plt.ylabel(\"Rates of recidivism\") \n",
    "plt.grid()\n",
    "plt.title(\"Recidivism rates of different risk score\")\n",
    "plt.savefig(\"Recidivism_score_gender.png\")"
   ]
  },
  {
   "cell_type": "markdown",
   "metadata": {},
   "source": [
    "# In the Low/High perspectives"
   ]
  },
  {
   "cell_type": "code",
   "execution_count": null,
   "metadata": {},
   "outputs": [],
   "source": [
    "df_race"
   ]
  },
  {
   "cell_type": "code",
   "execution_count": null,
   "metadata": {},
   "outputs": [],
   "source": [
    "df_race[(df_race['race']=='African-American') & (df_race['score_text']=='High')].two_year_recid.value_counts().sort_index().values"
   ]
  },
  {
   "cell_type": "code",
   "execution_count": null,
   "metadata": {},
   "outputs": [],
   "source": [
    "df_race[(df_race['race']=='African-American') & (df_race['score_text']=='Medium')].two_year_recid.value_counts().sort_index().values"
   ]
  },
  {
   "cell_type": "code",
   "execution_count": null,
   "metadata": {},
   "outputs": [],
   "source": [
    "df_race[(df_race['race']=='African-American') & (df_race['score_text']=='Low')].two_year_recid.value_counts().sort_index().values"
   ]
  },
  {
   "cell_type": "code",
   "execution_count": null,
   "metadata": {},
   "outputs": [],
   "source": [
    "df_race[(df_race['race']=='Caucasian') & (df_race['score_text']=='High')].two_year_recid.value_counts().sort_index().values"
   ]
  },
  {
   "cell_type": "code",
   "execution_count": null,
   "metadata": {},
   "outputs": [],
   "source": [
    "df_race[(df_race['race']=='Caucasian') & (df_race['score_text']=='Medium')].two_year_recid.value_counts().sort_index().values"
   ]
  },
  {
   "cell_type": "code",
   "execution_count": null,
   "metadata": {},
   "outputs": [],
   "source": [
    "df_race[(df_race['race']=='Caucasian') & (df_race['score_text']=='Low')].two_year_recid.value_counts().sort_index().values"
   ]
  },
  {
   "cell_type": "code",
   "execution_count": null,
   "metadata": {},
   "outputs": [],
   "source": [
    "df_race[(df_race['race']=='African-American') & (df_race['decile_score']<=5)].two_year_recid.value_counts().sort_index().values"
   ]
  },
  {
   "cell_type": "code",
   "execution_count": null,
   "metadata": {},
   "outputs": [],
   "source": [
    "df_race[(df_race['race']=='African-American') & (df_race['decile_score']>5)].two_year_recid.value_counts().sort_index().values"
   ]
  },
  {
   "cell_type": "code",
   "execution_count": null,
   "metadata": {},
   "outputs": [],
   "source": [
    "df_race[(df_race['race']=='Caucasian') & (df_race['decile_score']<5)].two_year_recid.value_counts().sort_index().values"
   ]
  },
  {
   "cell_type": "code",
   "execution_count": null,
   "metadata": {},
   "outputs": [],
   "source": [
    "df_race[(df_race['race']=='Caucasian') & (df_race['decile_score']>=5)].two_year_recid.value_counts().sort_index().values"
   ]
  },
  {
   "cell_type": "code",
   "execution_count": null,
   "metadata": {},
   "outputs": [],
   "source": [
    "df_race['COMPAS_score']=df_race['decile_score'].map(lambda a : 1 if a>=5 else 0)"
   ]
  },
  {
   "cell_type": "code",
   "execution_count": null,
   "metadata": {},
   "outputs": [],
   "source": [
    "df_race"
   ]
  },
  {
   "cell_type": "code",
   "execution_count": null,
   "metadata": {},
   "outputs": [],
   "source": [
    "df_race[df['race']=='African-American']['two_year_recid'].value_counts()"
   ]
  },
  {
   "cell_type": "code",
   "execution_count": null,
   "metadata": {},
   "outputs": [],
   "source": [
    "df_race[df['race']=='Caucasian']['two_year_recid'].value_counts()"
   ]
  },
  {
   "cell_type": "code",
   "execution_count": null,
   "metadata": {},
   "outputs": [],
   "source": [
    "df_race_BL=df_race[(df['race']=='African-American')&(df_race['COMPAS_score']==0)&(df_race['two_year_recid']==0)].shape[0]\n",
    "df_race_BL_R=df_race[(df['race']=='African-American')&(df_race['COMPAS_score']==0)&(df_race['two_year_recid']==1)].shape[0]\n",
    "df_race_BH=df_race[(df['race']=='African-American')&(df_race['COMPAS_score']==1)&(df_race['two_year_recid']==0)].shape[0]\n",
    "df_race_BH_R=df_race[(df['race']=='African-American')&(df_race['COMPAS_score']==1)&(df_race['two_year_recid']==1)].shape[0]"
   ]
  },
  {
   "cell_type": "code",
   "execution_count": null,
   "metadata": {},
   "outputs": [],
   "source": [
    "df_race_BL,df_race_BL_R,df_race_BH,df_race_BH_R"
   ]
  },
  {
   "cell_type": "code",
   "execution_count": null,
   "metadata": {},
   "outputs": [],
   "source": [
    "df_race_CL=df_race[(df['race']=='Caucasian')&(df_race['COMPAS_score']==0)&(df_race['two_year_recid']==0)].shape[0]\n",
    "df_race_CL_R=df_race[(df['race']=='Caucasian')&(df_race['COMPAS_score']==0)&(df_race['two_year_recid']==1)].shape[0]\n",
    "df_race_CH=df_race[(df['race']=='Caucasian')&(df_race['COMPAS_score']==1)&(df_race['two_year_recid']==0)].shape[0]\n",
    "df_race_CH_R=df_race[(df['race']=='Caucasian')&(df_race['COMPAS_score']==1)&(df_race['two_year_recid']==1)].shape[0]"
   ]
  },
  {
   "cell_type": "code",
   "execution_count": null,
   "metadata": {},
   "outputs": [],
   "source": [
    "df_race_CL,df_race_CL_R,df_race_CH,df_race_CH_R"
   ]
  },
  {
   "cell_type": "code",
   "execution_count": null,
   "metadata": {},
   "outputs": [],
   "source": []
  },
  {
   "cell_type": "code",
   "execution_count": null,
   "metadata": {},
   "outputs": [],
   "source": []
  },
  {
   "cell_type": "code",
   "execution_count": null,
   "metadata": {},
   "outputs": [],
   "source": [
    "from sklearn.metrics import confusion_matrix\n",
    "import numpy as np\n",
    "y_true_all=np.array(df_gender['two_year_recid'])\n",
    "y_pred_all=np.array(df_gender['COMPAS_score'])\n",
    "confusion_matrix(y_true_all, y_pred_all)"
   ]
  },
  {
   "cell_type": "code",
   "execution_count": null,
   "metadata": {
    "scrolled": true
   },
   "outputs": [],
   "source": [
    "plot_confusion_matrix(confusion_matrix(y_true_all, y_pred_all),['0','1'],title='Bias in Gender')"
   ]
  },
  {
   "cell_type": "code",
   "execution_count": null,
   "metadata": {},
   "outputs": [],
   "source": [
    "from sklearn.metrics import classification_report\n",
    "print('\\nClassification Report\\n')\n",
    "print(classification_report(df_gender.two_year_recid,df_gender.COMPAS_score))"
   ]
  },
  {
   "cell_type": "code",
   "execution_count": null,
   "metadata": {},
   "outputs": [],
   "source": [
    "from sklearn.metrics import confusion_matrix\n",
    "import numpy as np\n",
    "y_true_male=np.array(df_gender[df_gender['sex']=='Male']['two_year_recid'])\n",
    "y_pred_male=np.array(df_gender[df_gender['sex']=='Male']['COMPAS_score'])\n",
    "confusion_matrix(y_true_male, y_pred_male)"
   ]
  },
  {
   "cell_type": "code",
   "execution_count": null,
   "metadata": {
    "scrolled": false
   },
   "outputs": [],
   "source": [
    "plot_confusion_matrix(confusion_matrix(y_true_male, y_pred_male),['0','1'],title='Bias in Gender(Male)')"
   ]
  },
  {
   "cell_type": "code",
   "execution_count": null,
   "metadata": {
    "scrolled": true
   },
   "outputs": [],
   "source": [
    "from sklearn.metrics import classification_report\n",
    "print('\\nClassification Report\\n')\n",
    "print(classification_report(df_gender[df_gender['sex']=='Male'].two_year_recid,df_gender[df_gender['sex']=='Male'].COMPAS_score))"
   ]
  },
  {
   "cell_type": "code",
   "execution_count": null,
   "metadata": {},
   "outputs": [],
   "source": [
    "from sklearn.metrics import confusion_matrix\n",
    "import numpy as np\n",
    "y_true_fe=np.array(df_gender[df_gender['sex']=='Female']['two_year_recid'])\n",
    "y_pred_fe=np.array(df_gender[df_gender['sex']=='Female']['COMPAS_score'])\n",
    "confusion_matrix(y_true_fe, y_pred_fe)"
   ]
  },
  {
   "cell_type": "code",
   "execution_count": null,
   "metadata": {
    "scrolled": false
   },
   "outputs": [],
   "source": [
    "plot_confusion_matrix(confusion_matrix(y_true_fe, y_pred_fe),['0','1'],title='Bias in Race(Female)')"
   ]
  },
  {
   "cell_type": "code",
   "execution_count": null,
   "metadata": {
    "scrolled": true
   },
   "outputs": [],
   "source": [
    "from sklearn.metrics import classification_report\n",
    "print('\\nClassification Report\\n')\n",
    "print(classification_report(df_gender[df_gender['sex']=='Female'].two_year_recid,df_gender[df_gender['sex']=='Female'].COMPAS_score))"
   ]
  },
  {
   "cell_type": "code",
   "execution_count": null,
   "metadata": {},
   "outputs": [],
   "source": []
  },
  {
   "cell_type": "code",
   "execution_count": null,
   "metadata": {},
   "outputs": [],
   "source": [
    "plt.figure(figsize=(18,6))\n",
    "plt.subplot(131)\n",
    "plot_confusion_matrix(confusion_matrix(y_true_male, y_pred_male),['0','1'],title='Bias in Gender(Male)')\n",
    "plt.subplot(132)\n",
    "plot_confusion_matrix(confusion_matrix(y_true_fe, y_pred_fe),['0','1'],title='Bias in Race(Female)')\n",
    "plt.subplot(133)\n",
    "plot_confusion_matrix(confusion_matrix(y_true_all, y_pred_all),['0','1'],title='Bias in Gender')\n",
    "plt.savefig(\"Gender.png\")"
   ]
  },
  {
   "cell_type": "code",
   "execution_count": null,
   "metadata": {},
   "outputs": [],
   "source": []
  },
  {
   "cell_type": "code",
   "execution_count": null,
   "metadata": {},
   "outputs": [],
   "source": []
  },
  {
   "cell_type": "code",
   "execution_count": null,
   "metadata": {},
   "outputs": [],
   "source": []
  }
 ],
 "metadata": {
  "kernelspec": {
   "display_name": "Python 3",
   "language": "python",
   "name": "python3"
  },
  "language_info": {
   "codemirror_mode": {
    "name": "ipython",
    "version": 3
   },
   "file_extension": ".py",
   "mimetype": "text/x-python",
   "name": "python",
   "nbconvert_exporter": "python",
   "pygments_lexer": "ipython3",
   "version": "3.8.5"
  }
 },
 "nbformat": 4,
 "nbformat_minor": 4
}
